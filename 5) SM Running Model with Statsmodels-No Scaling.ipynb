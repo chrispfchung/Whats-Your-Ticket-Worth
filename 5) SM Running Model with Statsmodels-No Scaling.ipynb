{
 "cells": [
  {
   "cell_type": "markdown",
   "metadata": {},
   "source": [
    "# Running Models"
   ]
  },
  {
   "cell_type": "markdown",
   "metadata": {},
   "source": [
    "## Load libraries and dataframes"
   ]
  },
  {
   "cell_type": "code",
   "execution_count": 1,
   "metadata": {},
   "outputs": [],
   "source": [
    "import pandas as pd\n",
    "import pickle\n",
    "import numpy as np\n",
    "import matplotlib.pyplot as plt\n",
    "%matplotlib inline\n",
    "import seaborn as sns\n",
    "from sklearn.feature_selection import RFE\n",
    "from sklearn.linear_model import LinearRegression\n",
    "from sklearn.model_selection import train_test_split\n",
    "import statsmodels.api as sm\n",
    "from sklearn import metrics\n",
    "from scipy import stats\n",
    "from statsmodels.formula.api import ols\n",
    "from statsmodels.sandbox.regression.predstd import wls_prediction_std"
   ]
  },
  {
   "cell_type": "code",
   "execution_count": 2,
   "metadata": {},
   "outputs": [],
   "source": [
    "#Pickle in the main dataframe with all features + target\n",
    "c_df = pd.read_pickle('./c_df_dummies.pkl')\n",
    "c_df = c_df.reset_index(drop=True)"
   ]
  },
  {
   "cell_type": "markdown",
   "metadata": {},
   "source": [
    "### Last take at our dataframe information"
   ]
  },
  {
   "cell_type": "code",
   "execution_count": 3,
   "metadata": {},
   "outputs": [
    {
     "data": {
      "text/html": [
       "<div>\n",
       "<style scoped>\n",
       "    .dataframe tbody tr th:only-of-type {\n",
       "        vertical-align: middle;\n",
       "    }\n",
       "\n",
       "    .dataframe tbody tr th {\n",
       "        vertical-align: top;\n",
       "    }\n",
       "\n",
       "    .dataframe thead th {\n",
       "        text-align: right;\n",
       "    }\n",
       "</style>\n",
       "<table border=\"1\" class=\"dataframe\">\n",
       "  <thead>\n",
       "    <tr style=\"text-align: right;\">\n",
       "      <th></th>\n",
       "      <th>average_price</th>\n",
       "      <th>highest_price</th>\n",
       "      <th>lowest_price</th>\n",
       "      <th>performer_genre</th>\n",
       "      <th>ticket_listing_count</th>\n",
       "      <th>venue_city</th>\n",
       "      <th>event_month</th>\n",
       "      <th>event_day</th>\n",
       "      <th>event_start</th>\n",
       "      <th>time_of_day</th>\n",
       "      <th>wkend_wkday</th>\n",
       "      <th>venue_capacity</th>\n",
       "      <th>venue_score</th>\n",
       "    </tr>\n",
       "  </thead>\n",
       "  <tbody>\n",
       "    <tr>\n",
       "      <th>0</th>\n",
       "      <td>337.0</td>\n",
       "      <td>584.0</td>\n",
       "      <td>253.0</td>\n",
       "      <td>rock</td>\n",
       "      <td>4.0</td>\n",
       "      <td>Brooklyn</td>\n",
       "      <td>02</td>\n",
       "      <td>Fri</td>\n",
       "      <td>19</td>\n",
       "      <td>evening</td>\n",
       "      <td>weekend</td>\n",
       "      <td>small</td>\n",
       "      <td>0.431162</td>\n",
       "    </tr>\n",
       "    <tr>\n",
       "      <th>1</th>\n",
       "      <td>337.0</td>\n",
       "      <td>584.0</td>\n",
       "      <td>253.0</td>\n",
       "      <td>electronic</td>\n",
       "      <td>4.0</td>\n",
       "      <td>New York</td>\n",
       "      <td>02</td>\n",
       "      <td>Fri</td>\n",
       "      <td>19</td>\n",
       "      <td>evening</td>\n",
       "      <td>weekend</td>\n",
       "      <td>small</td>\n",
       "      <td>0.455722</td>\n",
       "    </tr>\n",
       "    <tr>\n",
       "      <th>2</th>\n",
       "      <td>22.0</td>\n",
       "      <td>24.0</td>\n",
       "      <td>20.0</td>\n",
       "      <td>rock</td>\n",
       "      <td>3.0</td>\n",
       "      <td>Port Chester</td>\n",
       "      <td>02</td>\n",
       "      <td>Fri</td>\n",
       "      <td>20</td>\n",
       "      <td>evening</td>\n",
       "      <td>weekend</td>\n",
       "      <td>large_venue</td>\n",
       "      <td>0.636922</td>\n",
       "    </tr>\n",
       "    <tr>\n",
       "      <th>3</th>\n",
       "      <td>45.0</td>\n",
       "      <td>80.0</td>\n",
       "      <td>30.0</td>\n",
       "      <td>pop</td>\n",
       "      <td>4.0</td>\n",
       "      <td>Westbury</td>\n",
       "      <td>02</td>\n",
       "      <td>Fri</td>\n",
       "      <td>20</td>\n",
       "      <td>evening</td>\n",
       "      <td>weekend</td>\n",
       "      <td>large_venue</td>\n",
       "      <td>0.501232</td>\n",
       "    </tr>\n",
       "    <tr>\n",
       "      <th>4</th>\n",
       "      <td>92.0</td>\n",
       "      <td>120.0</td>\n",
       "      <td>71.0</td>\n",
       "      <td>alternative</td>\n",
       "      <td>10.0</td>\n",
       "      <td>New York</td>\n",
       "      <td>02</td>\n",
       "      <td>Fri</td>\n",
       "      <td>20</td>\n",
       "      <td>evening</td>\n",
       "      <td>weekend</td>\n",
       "      <td>XL_venue</td>\n",
       "      <td>0.681791</td>\n",
       "    </tr>\n",
       "  </tbody>\n",
       "</table>\n",
       "</div>"
      ],
      "text/plain": [
       "   average_price  highest_price  lowest_price performer_genre  \\\n",
       "0          337.0          584.0         253.0            rock   \n",
       "1          337.0          584.0         253.0      electronic   \n",
       "2           22.0           24.0          20.0            rock   \n",
       "3           45.0           80.0          30.0             pop   \n",
       "4           92.0          120.0          71.0     alternative   \n",
       "\n",
       "   ticket_listing_count    venue_city event_month event_day  event_start  \\\n",
       "0                   4.0      Brooklyn          02       Fri           19   \n",
       "1                   4.0      New York          02       Fri           19   \n",
       "2                   3.0  Port Chester          02       Fri           20   \n",
       "3                   4.0      Westbury          02       Fri           20   \n",
       "4                  10.0      New York          02       Fri           20   \n",
       "\n",
       "  time_of_day wkend_wkday venue_capacity  venue_score  \n",
       "0     evening     weekend          small     0.431162  \n",
       "1     evening     weekend          small     0.455722  \n",
       "2     evening     weekend    large_venue     0.636922  \n",
       "3     evening     weekend    large_venue     0.501232  \n",
       "4     evening     weekend       XL_venue     0.681791  "
      ]
     },
     "execution_count": 3,
     "metadata": {},
     "output_type": "execute_result"
    }
   ],
   "source": [
    "example = pd.read_pickle('./c_df.pkl')\n",
    "example.head()"
   ]
  },
  {
   "cell_type": "code",
   "execution_count": 4,
   "metadata": {},
   "outputs": [
    {
     "name": "stdout",
     "output_type": "stream",
     "text": [
      "Shape\n",
      "(1254, 13)\n",
      "<class 'pandas.core.frame.DataFrame'>\n",
      "Int64Index: 1254 entries, 0 to 1280\n",
      "Data columns (total 13 columns):\n",
      "average_price           1254 non-null float64\n",
      "highest_price           1254 non-null float64\n",
      "lowest_price            1254 non-null float64\n",
      "performer_genre         1254 non-null object\n",
      "ticket_listing_count    1254 non-null float64\n",
      "venue_city              1254 non-null object\n",
      "event_month             1254 non-null object\n",
      "event_day               1254 non-null object\n",
      "event_start             1254 non-null int64\n",
      "time_of_day             1254 non-null object\n",
      "wkend_wkday             1254 non-null object\n",
      "venue_capacity          1254 non-null object\n",
      "venue_score             1254 non-null float64\n",
      "dtypes: float64(5), int64(1), object(7)\n",
      "memory usage: 137.2+ KB\n"
     ]
    }
   ],
   "source": [
    "print('Shape')\n",
    "print(example.shape)\n",
    "\n",
    "example.info()\n",
    "# 1254 usable data points"
   ]
  },
  {
   "cell_type": "code",
   "execution_count": 5,
   "metadata": {},
   "outputs": [
    {
     "data": {
      "text/html": [
       "<div>\n",
       "<style scoped>\n",
       "    .dataframe tbody tr th:only-of-type {\n",
       "        vertical-align: middle;\n",
       "    }\n",
       "\n",
       "    .dataframe tbody tr th {\n",
       "        vertical-align: top;\n",
       "    }\n",
       "\n",
       "    .dataframe thead th {\n",
       "        text-align: right;\n",
       "    }\n",
       "</style>\n",
       "<table border=\"1\" class=\"dataframe\">\n",
       "  <thead>\n",
       "    <tr style=\"text-align: right;\">\n",
       "      <th></th>\n",
       "      <th>average_price</th>\n",
       "      <th>highest_price</th>\n",
       "      <th>lowest_price</th>\n",
       "      <th>ticket_listing_count</th>\n",
       "      <th>event_start</th>\n",
       "      <th>venue_score</th>\n",
       "    </tr>\n",
       "  </thead>\n",
       "  <tbody>\n",
       "    <tr>\n",
       "      <th>count</th>\n",
       "      <td>1254.000000</td>\n",
       "      <td>1254.00000</td>\n",
       "      <td>1254.000000</td>\n",
       "      <td>1254.000000</td>\n",
       "      <td>1254.000000</td>\n",
       "      <td>1254.000000</td>\n",
       "    </tr>\n",
       "    <tr>\n",
       "      <th>mean</th>\n",
       "      <td>201.563397</td>\n",
       "      <td>943.37575</td>\n",
       "      <td>90.129984</td>\n",
       "      <td>159.892344</td>\n",
       "      <td>19.432217</td>\n",
       "      <td>0.507202</td>\n",
       "    </tr>\n",
       "    <tr>\n",
       "      <th>std</th>\n",
       "      <td>131.039167</td>\n",
       "      <td>1476.70055</td>\n",
       "      <td>68.841037</td>\n",
       "      <td>381.968604</td>\n",
       "      <td>1.508618</td>\n",
       "      <td>0.205611</td>\n",
       "    </tr>\n",
       "    <tr>\n",
       "      <th>min</th>\n",
       "      <td>22.000000</td>\n",
       "      <td>24.00000</td>\n",
       "      <td>4.000000</td>\n",
       "      <td>3.000000</td>\n",
       "      <td>12.000000</td>\n",
       "      <td>0.000000</td>\n",
       "    </tr>\n",
       "    <tr>\n",
       "      <th>25%</th>\n",
       "      <td>121.000000</td>\n",
       "      <td>584.00000</td>\n",
       "      <td>53.000000</td>\n",
       "      <td>11.000000</td>\n",
       "      <td>19.000000</td>\n",
       "      <td>0.455722</td>\n",
       "    </tr>\n",
       "    <tr>\n",
       "      <th>50%</th>\n",
       "      <td>168.000000</td>\n",
       "      <td>584.00000</td>\n",
       "      <td>72.000000</td>\n",
       "      <td>37.000000</td>\n",
       "      <td>20.000000</td>\n",
       "      <td>0.527452</td>\n",
       "    </tr>\n",
       "    <tr>\n",
       "      <th>75%</th>\n",
       "      <td>242.000000</td>\n",
       "      <td>584.00000</td>\n",
       "      <td>97.750000</td>\n",
       "      <td>110.000000</td>\n",
       "      <td>20.000000</td>\n",
       "      <td>0.607921</td>\n",
       "    </tr>\n",
       "    <tr>\n",
       "      <th>max</th>\n",
       "      <td>1760.000000</td>\n",
       "      <td>14207.00000</td>\n",
       "      <td>1321.000000</td>\n",
       "      <td>4684.000000</td>\n",
       "      <td>23.000000</td>\n",
       "      <td>0.886954</td>\n",
       "    </tr>\n",
       "  </tbody>\n",
       "</table>\n",
       "</div>"
      ],
      "text/plain": [
       "       average_price  highest_price  lowest_price  ticket_listing_count  \\\n",
       "count    1254.000000     1254.00000   1254.000000           1254.000000   \n",
       "mean      201.563397      943.37575     90.129984            159.892344   \n",
       "std       131.039167     1476.70055     68.841037            381.968604   \n",
       "min        22.000000       24.00000      4.000000              3.000000   \n",
       "25%       121.000000      584.00000     53.000000             11.000000   \n",
       "50%       168.000000      584.00000     72.000000             37.000000   \n",
       "75%       242.000000      584.00000     97.750000            110.000000   \n",
       "max      1760.000000    14207.00000   1321.000000           4684.000000   \n",
       "\n",
       "       event_start  venue_score  \n",
       "count  1254.000000  1254.000000  \n",
       "mean     19.432217     0.507202  \n",
       "std       1.508618     0.205611  \n",
       "min      12.000000     0.000000  \n",
       "25%      19.000000     0.455722  \n",
       "50%      20.000000     0.527452  \n",
       "75%      20.000000     0.607921  \n",
       "max      23.000000     0.886954  "
      ]
     },
     "execution_count": 5,
     "metadata": {},
     "output_type": "execute_result"
    }
   ],
   "source": [
    "example.describe()"
   ]
  },
  {
   "cell_type": "markdown",
   "metadata": {},
   "source": [
    "## Testing models with different pricing features"
   ]
  },
  {
   "cell_type": "markdown",
   "metadata": {},
   "source": [
    "### Description of model without lowest or highest price feature"
   ]
  },
  {
   "cell_type": "markdown",
   "metadata": {},
   "source": [
    "<font color=blue><br>\n",
    "- R^2 .300\n",
    "- Adj. R^2 .272\n",
    "- Not as well as it could be. Results are too unrelated.</font>\n",
    "<br>"
   ]
  },
  {
   "cell_type": "code",
   "execution_count": 6,
   "metadata": {},
   "outputs": [],
   "source": [
    "outcome = 'average_price'\n",
    "predictors = c_df.drop(columns=['average_price', 'lowest_price', 'highest_price'])\n",
    "pred_sum = \"+\".join(predictors.columns)\n",
    "formula = outcome + \"~\" + pred_sum\n",
    "predictors_int = sm.add_constant(predictors)\n",
    "model = sm.OLS(c_df['average_price'],predictors_int).fit()\n",
    "# model.summary()"
   ]
  },
  {
   "cell_type": "markdown",
   "metadata": {},
   "source": [
    "### Description of model without lowest price feature"
   ]
  },
  {
   "cell_type": "markdown",
   "metadata": {},
   "source": [
    "<font color=blue><br>\n",
    "- R^2 = **.501**\n",
    "- Adj. R^2 = **.482**\n",
    "- Better than without lowest and highest feature.</font>\n",
    "<br>"
   ]
  },
  {
   "cell_type": "code",
   "execution_count": 7,
   "metadata": {},
   "outputs": [],
   "source": [
    "outcome = 'average_price'\n",
    "predictors = c_df.drop(columns=['average_price', 'lowest_price'])\n",
    "pred_sum = \"+\".join(predictors.columns)\n",
    "formula = outcome + \"~\" + pred_sum\n",
    "predictors_int = sm.add_constant(predictors)\n",
    "model = sm.OLS(c_df['average_price'],predictors_int).fit()\n",
    "# model.summary()"
   ]
  },
  {
   "cell_type": "markdown",
   "metadata": {},
   "source": [
    "### Description of model without highest price feature"
   ]
  },
  {
   "cell_type": "markdown",
   "metadata": {},
   "source": [
    "<font color=blue><br>\n",
    "- R^2 = **.619**\n",
    "- Adj. R^2 = **.604**\n",
    "- Better than without highest feature.</font>\n",
    "<br>"
   ]
  },
  {
   "cell_type": "code",
   "execution_count": 8,
   "metadata": {},
   "outputs": [],
   "source": [
    "## outcome = 'average_price'\n",
    "predictors = c_df.drop(columns=['average_price', 'highest_price'])\n",
    "pred_sum = \"+\".join(predictors.columns)\n",
    "formula = outcome + \"~\" + pred_sum\n",
    "predictors_int = sm.add_constant(predictors)\n",
    "model = sm.OLS(c_df['average_price'],predictors_int).fit()\n",
    "# model.summary()"
   ]
  },
  {
   "cell_type": "markdown",
   "metadata": {},
   "source": [
    "### Description of model with all features"
   ]
  },
  {
   "cell_type": "markdown",
   "metadata": {},
   "source": [
    "*Best fit so far in terms of using the R^2 score*\n",
    "<font color=blue><br>\n",
    "- R^2 = **.771**\n",
    "- Adj. R^2 = **.762**\n",
    "</font>\n",
    "<br>"
   ]
  },
  {
   "cell_type": "code",
   "execution_count": 9,
   "metadata": {},
   "outputs": [
    {
     "data": {
      "text/html": [
       "<table class=\"simpletable\">\n",
       "<caption>OLS Regression Results</caption>\n",
       "<tr>\n",
       "  <th>Dep. Variable:</th>      <td>average_price</td>  <th>  R-squared:         </th> <td>   0.771</td> \n",
       "</tr>\n",
       "<tr>\n",
       "  <th>Model:</th>                   <td>OLS</td>       <th>  Adj. R-squared:    </th> <td>   0.762</td> \n",
       "</tr>\n",
       "<tr>\n",
       "  <th>Method:</th>             <td>Least Squares</td>  <th>  F-statistic:       </th> <td>   85.21</td> \n",
       "</tr>\n",
       "<tr>\n",
       "  <th>Date:</th>             <td>Fri, 12 Apr 2019</td> <th>  Prob (F-statistic):</th> <td>4.45e-307</td>\n",
       "</tr>\n",
       "<tr>\n",
       "  <th>Time:</th>                 <td>16:35:44</td>     <th>  Log-Likelihood:    </th> <td> -6199.6</td> \n",
       "</tr>\n",
       "<tr>\n",
       "  <th>No. Observations:</th>      <td>  1107</td>      <th>  AIC:               </th> <td>1.249e+04</td>\n",
       "</tr>\n",
       "<tr>\n",
       "  <th>Df Residuals:</th>          <td>  1064</td>      <th>  BIC:               </th> <td>1.270e+04</td>\n",
       "</tr>\n",
       "<tr>\n",
       "  <th>Df Model:</th>              <td>    42</td>      <th>                     </th>     <td> </td>    \n",
       "</tr>\n",
       "<tr>\n",
       "  <th>Covariance Type:</th>      <td>nonrobust</td>    <th>                     </th>     <td> </td>    \n",
       "</tr>\n",
       "</table>\n",
       "<table class=\"simpletable\">\n",
       "<tr>\n",
       "               <td></td>                  <th>coef</th>     <th>std err</th>      <th>t</th>      <th>P>|t|</th>  <th>[0.025</th>    <th>0.975]</th>  \n",
       "</tr>\n",
       "<tr>\n",
       "  <th>highest_price</th>               <td>    0.0423</td> <td>    0.002</td> <td>   26.580</td> <td> 0.000</td> <td>    0.039</td> <td>    0.045</td>\n",
       "</tr>\n",
       "<tr>\n",
       "  <th>lowest_price</th>                <td>    1.0601</td> <td>    0.030</td> <td>   35.369</td> <td> 0.000</td> <td>    1.001</td> <td>    1.119</td>\n",
       "</tr>\n",
       "<tr>\n",
       "  <th>ticket_listing_count</th>        <td>   -0.0220</td> <td>    0.007</td> <td>   -3.012</td> <td> 0.003</td> <td>   -0.036</td> <td>   -0.008</td>\n",
       "</tr>\n",
       "<tr>\n",
       "  <th>venue_score</th>                 <td>  220.2023</td> <td>   39.462</td> <td>    5.580</td> <td> 0.000</td> <td>  142.770</td> <td>  297.635</td>\n",
       "</tr>\n",
       "<tr>\n",
       "  <th>performer_genre_alternative</th> <td>  -11.6248</td> <td>    8.285</td> <td>   -1.403</td> <td> 0.161</td> <td>  -27.882</td> <td>    4.633</td>\n",
       "</tr>\n",
       "<tr>\n",
       "  <th>performer_genre_blues</th>       <td>    1.0555</td> <td>    8.692</td> <td>    0.121</td> <td> 0.903</td> <td>  -16.000</td> <td>   18.111</td>\n",
       "</tr>\n",
       "<tr>\n",
       "  <th>performer_genre_country</th>     <td>   -5.1307</td> <td>    6.519</td> <td>   -0.787</td> <td> 0.431</td> <td>  -17.923</td> <td>    7.662</td>\n",
       "</tr>\n",
       "<tr>\n",
       "  <th>performer_genre_electronic</th>  <td>   -9.5104</td> <td>   11.823</td> <td>   -0.804</td> <td> 0.421</td> <td>  -32.709</td> <td>   13.688</td>\n",
       "</tr>\n",
       "<tr>\n",
       "  <th>performer_genre_hip-hop</th>     <td>   -3.8054</td> <td>   10.471</td> <td>   -0.363</td> <td> 0.716</td> <td>  -24.351</td> <td>   16.740</td>\n",
       "</tr>\n",
       "<tr>\n",
       "  <th>performer_genre_latin</th>       <td>   14.4062</td> <td>   16.761</td> <td>    0.860</td> <td> 0.390</td> <td>  -18.481</td> <td>   47.294</td>\n",
       "</tr>\n",
       "<tr>\n",
       "  <th>performer_genre_pop</th>         <td>   -3.7905</td> <td>    4.467</td> <td>   -0.849</td> <td> 0.396</td> <td>  -12.556</td> <td>    4.975</td>\n",
       "</tr>\n",
       "<tr>\n",
       "  <th>performer_genre_rock</th>        <td>    8.2514</td> <td>    7.263</td> <td>    1.136</td> <td> 0.256</td> <td>   -5.999</td> <td>   22.502</td>\n",
       "</tr>\n",
       "<tr>\n",
       "  <th>performer_genre_soul</th>        <td>   -4.2573</td> <td>   12.422</td> <td>   -0.343</td> <td> 0.732</td> <td>  -28.632</td> <td>   20.117</td>\n",
       "</tr>\n",
       "<tr>\n",
       "  <th>event_month_02</th>              <td>  -26.1283</td> <td>    9.216</td> <td>   -2.835</td> <td> 0.005</td> <td>  -44.211</td> <td>   -8.046</td>\n",
       "</tr>\n",
       "<tr>\n",
       "  <th>event_month_03</th>              <td>  -11.7433</td> <td>    8.946</td> <td>   -1.313</td> <td> 0.190</td> <td>  -29.297</td> <td>    5.810</td>\n",
       "</tr>\n",
       "<tr>\n",
       "  <th>event_month_04</th>              <td>  -24.0294</td> <td>    9.370</td> <td>   -2.565</td> <td> 0.010</td> <td>  -42.414</td> <td>   -5.645</td>\n",
       "</tr>\n",
       "<tr>\n",
       "  <th>event_month_05</th>              <td>  -17.8730</td> <td>    9.967</td> <td>   -1.793</td> <td> 0.073</td> <td>  -37.431</td> <td>    1.685</td>\n",
       "</tr>\n",
       "<tr>\n",
       "  <th>event_month_06</th>              <td>  -14.0838</td> <td>   10.865</td> <td>   -1.296</td> <td> 0.195</td> <td>  -35.403</td> <td>    7.235</td>\n",
       "</tr>\n",
       "<tr>\n",
       "  <th>event_month_07</th>              <td>   22.2083</td> <td>   13.808</td> <td>    1.608</td> <td> 0.108</td> <td>   -4.886</td> <td>   49.303</td>\n",
       "</tr>\n",
       "<tr>\n",
       "  <th>event_month_08</th>              <td>   29.1114</td> <td>   13.046</td> <td>    2.231</td> <td> 0.026</td> <td>    3.513</td> <td>   54.710</td>\n",
       "</tr>\n",
       "<tr>\n",
       "  <th>event_month_09</th>              <td>   -9.4188</td> <td>   15.673</td> <td>   -0.601</td> <td> 0.548</td> <td>  -40.173</td> <td>   21.335</td>\n",
       "</tr>\n",
       "<tr>\n",
       "  <th>event_month_10</th>              <td>  -75.1751</td> <td>   24.554</td> <td>   -3.062</td> <td> 0.002</td> <td> -123.355</td> <td>  -26.995</td>\n",
       "</tr>\n",
       "<tr>\n",
       "  <th>event_month_11</th>              <td>  151.4444</td> <td>   62.791</td> <td>    2.412</td> <td> 0.016</td> <td>   28.237</td> <td>  274.652</td>\n",
       "</tr>\n",
       "<tr>\n",
       "  <th>event_month_12</th>              <td>  -38.7183</td> <td>   44.142</td> <td>   -0.877</td> <td> 0.381</td> <td> -125.335</td> <td>   47.898</td>\n",
       "</tr>\n",
       "<tr>\n",
       "  <th>event_day_Fri</th>               <td>   -4.0669</td> <td>    4.572</td> <td>   -0.890</td> <td> 0.374</td> <td>  -13.038</td> <td>    4.904</td>\n",
       "</tr>\n",
       "<tr>\n",
       "  <th>event_day_Mon</th>               <td>   -0.6876</td> <td>    7.688</td> <td>   -0.089</td> <td> 0.929</td> <td>  -15.773</td> <td>   14.398</td>\n",
       "</tr>\n",
       "<tr>\n",
       "  <th>event_day_Sat</th>               <td>   -6.8501</td> <td>    4.452</td> <td>   -1.539</td> <td> 0.124</td> <td>  -15.586</td> <td>    1.886</td>\n",
       "</tr>\n",
       "<tr>\n",
       "  <th>event_day_Sun</th>               <td>  -11.6179</td> <td>    5.948</td> <td>   -1.953</td> <td> 0.051</td> <td>  -23.290</td> <td>    0.054</td>\n",
       "</tr>\n",
       "<tr>\n",
       "  <th>event_day_Thu</th>               <td>   -6.3511</td> <td>    4.991</td> <td>   -1.272</td> <td> 0.204</td> <td>  -16.145</td> <td>    3.443</td>\n",
       "</tr>\n",
       "<tr>\n",
       "  <th>event_day_Tue</th>               <td>    9.6984</td> <td>    6.390</td> <td>    1.518</td> <td> 0.129</td> <td>   -2.840</td> <td>   22.237</td>\n",
       "</tr>\n",
       "<tr>\n",
       "  <th>event_day_Wed</th>               <td>    5.4694</td> <td>    5.814</td> <td>    0.941</td> <td> 0.347</td> <td>   -5.939</td> <td>   16.877</td>\n",
       "</tr>\n",
       "<tr>\n",
       "  <th>time_of_day_afternoon</th>       <td>  -14.8503</td> <td>   12.325</td> <td>   -1.205</td> <td> 0.229</td> <td>  -39.034</td> <td>    9.333</td>\n",
       "</tr>\n",
       "<tr>\n",
       "  <th>time_of_day_evening</th>         <td>    0.4445</td> <td>    9.269</td> <td>    0.048</td> <td> 0.962</td> <td>  -17.743</td> <td>   18.632</td>\n",
       "</tr>\n",
       "<tr>\n",
       "  <th>wkend_wkday_weekend</th>         <td>  -14.4058</td> <td>    9.987</td> <td>   -1.442</td> <td> 0.149</td> <td>  -34.003</td> <td>    5.191</td>\n",
       "</tr>\n",
       "<tr>\n",
       "  <th>event_start_13</th>              <td>  -19.6359</td> <td>   54.221</td> <td>   -0.362</td> <td> 0.717</td> <td> -126.029</td> <td>   86.757</td>\n",
       "</tr>\n",
       "<tr>\n",
       "  <th>event_start_14</th>              <td>  -14.2117</td> <td>   35.199</td> <td>   -0.404</td> <td> 0.686</td> <td>  -83.280</td> <td>   54.857</td>\n",
       "</tr>\n",
       "<tr>\n",
       "  <th>event_start_15</th>              <td>   -9.9618</td> <td>   35.555</td> <td>   -0.280</td> <td> 0.779</td> <td>  -79.729</td> <td>   59.805</td>\n",
       "</tr>\n",
       "<tr>\n",
       "  <th>event_start_17</th>              <td>   28.9591</td> <td>   25.893</td> <td>    1.118</td> <td> 0.264</td> <td>  -21.849</td> <td>   79.767</td>\n",
       "</tr>\n",
       "<tr>\n",
       "  <th>event_start_18</th>              <td>    5.4949</td> <td>    9.741</td> <td>    0.564</td> <td> 0.573</td> <td>  -13.619</td> <td>   24.608</td>\n",
       "</tr>\n",
       "<tr>\n",
       "  <th>event_start_19</th>              <td>    1.8335</td> <td>    6.871</td> <td>    0.267</td> <td> 0.790</td> <td>  -11.649</td> <td>   15.316</td>\n",
       "</tr>\n",
       "<tr>\n",
       "  <th>event_start_20</th>              <td>   -6.5537</td> <td>    6.367</td> <td>   -1.029</td> <td> 0.304</td> <td>  -19.047</td> <td>    5.940</td>\n",
       "</tr>\n",
       "<tr>\n",
       "  <th>event_start_21</th>              <td>  -15.2661</td> <td>    9.718</td> <td>   -1.571</td> <td> 0.116</td> <td>  -34.334</td> <td>    3.802</td>\n",
       "</tr>\n",
       "<tr>\n",
       "  <th>event_start_22</th>              <td>   25.1673</td> <td>   14.383</td> <td>    1.750</td> <td> 0.080</td> <td>   -3.055</td> <td>   53.389</td>\n",
       "</tr>\n",
       "<tr>\n",
       "  <th>event_start_23</th>              <td>  -10.2314</td> <td>   25.766</td> <td>   -0.397</td> <td> 0.691</td> <td>  -60.789</td> <td>   40.326</td>\n",
       "</tr>\n",
       "<tr>\n",
       "  <th>venue_capacity_XL_venue</th>     <td>   -7.6386</td> <td>    7.996</td> <td>   -0.955</td> <td> 0.340</td> <td>  -23.329</td> <td>    8.052</td>\n",
       "</tr>\n",
       "<tr>\n",
       "  <th>venue_capacity_large_venue</th>  <td>  -24.1280</td> <td>    5.147</td> <td>   -4.687</td> <td> 0.000</td> <td>  -34.228</td> <td>  -14.028</td>\n",
       "</tr>\n",
       "<tr>\n",
       "  <th>venue_capacity_medium_</th>      <td>  -18.9852</td> <td>    3.892</td> <td>   -4.878</td> <td> 0.000</td> <td>  -26.622</td> <td>  -11.348</td>\n",
       "</tr>\n",
       "<tr>\n",
       "  <th>venue_capacity_small</th>        <td>   36.3460</td> <td>    4.887</td> <td>    7.437</td> <td> 0.000</td> <td>   26.756</td> <td>   45.936</td>\n",
       "</tr>\n",
       "<tr>\n",
       "  <th>venue_region_long island</th>    <td>   -6.6246</td> <td>    5.824</td> <td>   -1.137</td> <td> 0.256</td> <td>  -18.053</td> <td>    4.804</td>\n",
       "</tr>\n",
       "<tr>\n",
       "  <th>venue_region_new york city</th>  <td>  -15.8117</td> <td>    5.852</td> <td>   -2.702</td> <td> 0.007</td> <td>  -27.295</td> <td>   -4.328</td>\n",
       "</tr>\n",
       "<tr>\n",
       "  <th>venue_region_upstate</th>        <td>    8.0304</td> <td>    4.586</td> <td>    1.751</td> <td> 0.080</td> <td>   -0.967</td> <td>   17.028</td>\n",
       "</tr>\n",
       "</table>\n",
       "<table class=\"simpletable\">\n",
       "<tr>\n",
       "  <th>Omnibus:</th>       <td>1032.357</td> <th>  Durbin-Watson:     </th>  <td>   2.030</td> \n",
       "</tr>\n",
       "<tr>\n",
       "  <th>Prob(Omnibus):</th>  <td> 0.000</td>  <th>  Jarque-Bera (JB):  </th> <td>220731.971</td>\n",
       "</tr>\n",
       "<tr>\n",
       "  <th>Skew:</th>           <td> 3.626</td>  <th>  Prob(JB):          </th>  <td>    0.00</td> \n",
       "</tr>\n",
       "<tr>\n",
       "  <th>Kurtosis:</th>       <td>71.796</td>  <th>  Cond. No.          </th>  <td>1.01e+16</td> \n",
       "</tr>\n",
       "</table><br/><br/>Warnings:<br/>[1] Standard Errors assume that the covariance matrix of the errors is correctly specified.<br/>[2] The smallest eigenvalue is 3.8e-23. This might indicate that there are<br/>strong multicollinearity problems or that the design matrix is singular."
      ],
      "text/plain": [
       "<class 'statsmodels.iolib.summary.Summary'>\n",
       "\"\"\"\n",
       "                            OLS Regression Results                            \n",
       "==============================================================================\n",
       "Dep. Variable:          average_price   R-squared:                       0.771\n",
       "Model:                            OLS   Adj. R-squared:                  0.762\n",
       "Method:                 Least Squares   F-statistic:                     85.21\n",
       "Date:                Fri, 12 Apr 2019   Prob (F-statistic):          4.45e-307\n",
       "Time:                        16:35:44   Log-Likelihood:                -6199.6\n",
       "No. Observations:                1107   AIC:                         1.249e+04\n",
       "Df Residuals:                    1064   BIC:                         1.270e+04\n",
       "Df Model:                          42                                         \n",
       "Covariance Type:            nonrobust                                         \n",
       "===============================================================================================\n",
       "                                  coef    std err          t      P>|t|      [0.025      0.975]\n",
       "-----------------------------------------------------------------------------------------------\n",
       "highest_price                   0.0423      0.002     26.580      0.000       0.039       0.045\n",
       "lowest_price                    1.0601      0.030     35.369      0.000       1.001       1.119\n",
       "ticket_listing_count           -0.0220      0.007     -3.012      0.003      -0.036      -0.008\n",
       "venue_score                   220.2023     39.462      5.580      0.000     142.770     297.635\n",
       "performer_genre_alternative   -11.6248      8.285     -1.403      0.161     -27.882       4.633\n",
       "performer_genre_blues           1.0555      8.692      0.121      0.903     -16.000      18.111\n",
       "performer_genre_country        -5.1307      6.519     -0.787      0.431     -17.923       7.662\n",
       "performer_genre_electronic     -9.5104     11.823     -0.804      0.421     -32.709      13.688\n",
       "performer_genre_hip-hop        -3.8054     10.471     -0.363      0.716     -24.351      16.740\n",
       "performer_genre_latin          14.4062     16.761      0.860      0.390     -18.481      47.294\n",
       "performer_genre_pop            -3.7905      4.467     -0.849      0.396     -12.556       4.975\n",
       "performer_genre_rock            8.2514      7.263      1.136      0.256      -5.999      22.502\n",
       "performer_genre_soul           -4.2573     12.422     -0.343      0.732     -28.632      20.117\n",
       "event_month_02                -26.1283      9.216     -2.835      0.005     -44.211      -8.046\n",
       "event_month_03                -11.7433      8.946     -1.313      0.190     -29.297       5.810\n",
       "event_month_04                -24.0294      9.370     -2.565      0.010     -42.414      -5.645\n",
       "event_month_05                -17.8730      9.967     -1.793      0.073     -37.431       1.685\n",
       "event_month_06                -14.0838     10.865     -1.296      0.195     -35.403       7.235\n",
       "event_month_07                 22.2083     13.808      1.608      0.108      -4.886      49.303\n",
       "event_month_08                 29.1114     13.046      2.231      0.026       3.513      54.710\n",
       "event_month_09                 -9.4188     15.673     -0.601      0.548     -40.173      21.335\n",
       "event_month_10                -75.1751     24.554     -3.062      0.002    -123.355     -26.995\n",
       "event_month_11                151.4444     62.791      2.412      0.016      28.237     274.652\n",
       "event_month_12                -38.7183     44.142     -0.877      0.381    -125.335      47.898\n",
       "event_day_Fri                  -4.0669      4.572     -0.890      0.374     -13.038       4.904\n",
       "event_day_Mon                  -0.6876      7.688     -0.089      0.929     -15.773      14.398\n",
       "event_day_Sat                  -6.8501      4.452     -1.539      0.124     -15.586       1.886\n",
       "event_day_Sun                 -11.6179      5.948     -1.953      0.051     -23.290       0.054\n",
       "event_day_Thu                  -6.3511      4.991     -1.272      0.204     -16.145       3.443\n",
       "event_day_Tue                   9.6984      6.390      1.518      0.129      -2.840      22.237\n",
       "event_day_Wed                   5.4694      5.814      0.941      0.347      -5.939      16.877\n",
       "time_of_day_afternoon         -14.8503     12.325     -1.205      0.229     -39.034       9.333\n",
       "time_of_day_evening             0.4445      9.269      0.048      0.962     -17.743      18.632\n",
       "wkend_wkday_weekend           -14.4058      9.987     -1.442      0.149     -34.003       5.191\n",
       "event_start_13                -19.6359     54.221     -0.362      0.717    -126.029      86.757\n",
       "event_start_14                -14.2117     35.199     -0.404      0.686     -83.280      54.857\n",
       "event_start_15                 -9.9618     35.555     -0.280      0.779     -79.729      59.805\n",
       "event_start_17                 28.9591     25.893      1.118      0.264     -21.849      79.767\n",
       "event_start_18                  5.4949      9.741      0.564      0.573     -13.619      24.608\n",
       "event_start_19                  1.8335      6.871      0.267      0.790     -11.649      15.316\n",
       "event_start_20                 -6.5537      6.367     -1.029      0.304     -19.047       5.940\n",
       "event_start_21                -15.2661      9.718     -1.571      0.116     -34.334       3.802\n",
       "event_start_22                 25.1673     14.383      1.750      0.080      -3.055      53.389\n",
       "event_start_23                -10.2314     25.766     -0.397      0.691     -60.789      40.326\n",
       "venue_capacity_XL_venue        -7.6386      7.996     -0.955      0.340     -23.329       8.052\n",
       "venue_capacity_large_venue    -24.1280      5.147     -4.687      0.000     -34.228     -14.028\n",
       "venue_capacity_medium_        -18.9852      3.892     -4.878      0.000     -26.622     -11.348\n",
       "venue_capacity_small           36.3460      4.887      7.437      0.000      26.756      45.936\n",
       "venue_region_long island       -6.6246      5.824     -1.137      0.256     -18.053       4.804\n",
       "venue_region_new york city    -15.8117      5.852     -2.702      0.007     -27.295      -4.328\n",
       "venue_region_upstate            8.0304      4.586      1.751      0.080      -0.967      17.028\n",
       "==============================================================================\n",
       "Omnibus:                     1032.357   Durbin-Watson:                   2.030\n",
       "Prob(Omnibus):                  0.000   Jarque-Bera (JB):           220731.971\n",
       "Skew:                           3.626   Prob(JB):                         0.00\n",
       "Kurtosis:                      71.796   Cond. No.                     1.01e+16\n",
       "==============================================================================\n",
       "\n",
       "Warnings:\n",
       "[1] Standard Errors assume that the covariance matrix of the errors is correctly specified.\n",
       "[2] The smallest eigenvalue is 3.8e-23. This might indicate that there are\n",
       "strong multicollinearity problems or that the design matrix is singular.\n",
       "\"\"\""
      ]
     },
     "execution_count": 9,
     "metadata": {},
     "output_type": "execute_result"
    }
   ],
   "source": [
    "outcome = 'average_price'\n",
    "predictors = c_df.drop(columns=['average_price'])\n",
    "pred_sum = \"+\".join(predictors.columns)\n",
    "formula = outcome + \"~\" + pred_sum\n",
    "predictors_int = sm.add_constant(predictors)\n",
    "model = sm.OLS(c_df['average_price'],predictors_int).fit()\n",
    "model.summary()"
   ]
  },
  {
   "cell_type": "code",
   "execution_count": 10,
   "metadata": {},
   "outputs": [
    {
     "data": {
      "text/plain": [
       "array([361.85088413, 103.84562713,  60.21503335, 144.46494026,\n",
       "       177.70332058, 172.99316622,  89.20678186,  55.72510409,\n",
       "       143.02408078])"
      ]
     },
     "execution_count": 10,
     "metadata": {},
     "output_type": "execute_result"
    }
   ],
   "source": [
    "model.predict()[1:10]"
   ]
  },
  {
   "cell_type": "code",
   "execution_count": 20,
   "metadata": {},
   "outputs": [
    {
     "data": {
      "text/plain": [
       "0.7668312387685927"
      ]
     },
     "execution_count": 20,
     "metadata": {},
     "output_type": "execute_result"
    }
   ],
   "source": [
    "model.score(X,y)"
   ]
  },
  {
   "cell_type": "markdown",
   "metadata": {},
   "source": [
    "Findings: \n",
    "- Smaller venues have a stronger impact on the ticket price than large, XL and medium since these 3 are reduce price \n",
    "- Tuesday and Wednesday events yield a better price\n",
    "- Events starting from 5 until 7 yield better prices than other times. At 10 o clock, events raise in price by \\\\$ 25\n",
    "- November is a good month"
   ]
  },
  {
   "cell_type": "markdown",
   "metadata": {},
   "source": [
    "### Sci-Kit Learn Metrics and Coefficient Values"
   ]
  },
  {
   "cell_type": "code",
   "execution_count": 25,
   "metadata": {
    "scrolled": true
   },
   "outputs": [
    {
     "name": "stdout",
     "output_type": "stream",
     "text": [
      "R^2: 0.7873146184572155\n",
      "MAE: 41.01348258241605\n",
      "MSE: 4163.458788601898\n",
      "RMSE: 64.52486953572163\n",
      "stddev: 0.6207767916424267\n"
     ]
    }
   ],
   "source": [
    "# include all features\n",
    "X = c_df[feature_cols]\n",
    "y = c_df.average_price\n",
    "\n",
    "# Split data\n",
    "X_train, X_test, y_train, y_test = train_test_split(X, y, random_state=2, test_size=0.2)\n",
    "\n",
    "# Instantiate model\n",
    "model = LinearRegression()\n",
    "\n",
    "# Fit Model\n",
    "model.fit(X_train, y_train)\n",
    "\n",
    "# Predict\n",
    "y_pred = model.predict(X_test)\n",
    "\n",
    "# RMSE\n",
    "print(f'R^2: {model.score(X_train, y_train)}')\n",
    "print(f'MAE: {metrics.mean_absolute_error(y_test, y_pred)}')\n",
    "print(f'MSE: {metrics.mean_squared_error(y_test, y_pred)}')\n",
    "print(f'RMSE: {np.sqrt(metrics.mean_squared_error(y_test, y_pred))}')\n",
    "print(f'stddev: {np.sqrt(metrics.mean_squared_error(y_test, y_pred))/ y_test.std()}')"
   ]
  },
  {
   "cell_type": "markdown",
   "metadata": {},
   "source": [
    "RMSE is interpretable to the y units. We are on average off by $64."
   ]
  },
  {
   "cell_type": "code",
   "execution_count": 28,
   "metadata": {},
   "outputs": [
    {
     "data": {
      "text/plain": [
       "[(-73.1672376341062, 'event_month_10'),\n",
       " (-27.891790821756484, 'event_month_04'),\n",
       " (-26.504251395701345, 'event_month_02'),\n",
       " (-24.615549592189478, 'event_start_23'),\n",
       " (-21.235706116721992, 'venue_capacity_large_venue'),\n",
       " (-19.275013788232847, 'event_month_05'),\n",
       " (-16.88121417800463, 'event_month_06'),\n",
       " (-15.49846787994184, 'event_start_14'),\n",
       " (-14.985493413981182, 'event_month_09'),\n",
       " (-13.811691129157548, 'venue_region_new york city'),\n",
       " (-13.666751788268773, 'venue_capacity_medium_'),\n",
       " (-12.662175717043958, 'performer_genre_alternative'),\n",
       " (-12.528375896241887, 'event_start_15'),\n",
       " (-11.910027612896094, 'event_start_21'),\n",
       " (-11.14580554117306, 'event_day_Sun'),\n",
       " (-10.836910439967482, 'event_month_03'),\n",
       " (-9.428882838789534, 'performer_genre_electronic'),\n",
       " (-7.331045593838432, 'event_start_20'),\n",
       " (-6.852151864988457, 'performer_genre_country'),\n",
       " (-4.111957290045382, 'performer_genre_hip-hop'),\n",
       " (-3.838866941642909, 'time_of_day_afternoon'),\n",
       " (-3.0570276502618796, 'venue_capacity_XL_venue'),\n",
       " (-2.92306693088884, 'event_day_Sat'),\n",
       " (-2.1192405058946324, 'event_day_Thu'),\n",
       " (-1.14121844127137, 'performer_genre_soul'),\n",
       " (-0.6234310440888322, 'performer_genre_pop'),\n",
       " (-0.5234026550624513, 'event_day_Mon'),\n",
       " (-0.10561895740249039, 'event_day_Fri'),\n",
       " (-0.027798115937168966, 'ticket_listing_count'),\n",
       " (-1.3322676295501878e-14, 'wkend_wkday_weekend'),\n",
       " (-7.105427357601002e-15, 'event_start_13'),\n",
       " (1.4210854715202004e-14, 'event_month_12'),\n",
       " (0.046983396767863055, 'highest_price'),\n",
       " (1.0533078794609312, 'lowest_price'),\n",
       " (3.27506711246631, 'performer_genre_blues'),\n",
       " (3.838866941642763, 'time_of_day_evening'),\n",
       " (5.101536925193308, 'venue_region_long island'),\n",
       " (5.391784732744659, 'event_start_19'),\n",
       " (6.4970997324692, 'event_day_Wed'),\n",
       " (8.710154203965491, 'venue_region_upstate'),\n",
       " (10.320034857954933, 'event_day_Tue'),\n",
       " (10.762602927488285, 'performer_genre_rock'),\n",
       " (11.394316024766972, 'event_start_18'),\n",
       " (16.85748132863032, 'event_month_07'),\n",
       " (20.782147156280956, 'performer_genre_latin'),\n",
       " (24.187976834541193, 'event_start_17'),\n",
       " (28.37816397296206, 'event_month_08'),\n",
       " (30.90938898305449, 'event_start_22'),\n",
       " (37.95948555525965, 'venue_capacity_small'),\n",
       " (144.3062663701591, 'event_month_11'),\n",
       " (210.04959544956785, 'venue_score')]"
      ]
     },
     "execution_count": 28,
     "metadata": {},
     "output_type": "execute_result"
    }
   ],
   "source": [
    "weights = model.coef_\n",
    "variables = predictors.columns\n",
    "variable_dict = {w[0]:w[1] for w in zip(weights, variables)}\n",
    "sorted(variable_dict.items())"
   ]
  },
  {
   "cell_type": "markdown",
   "metadata": {},
   "source": [
    "Findings:<br>\n",
    "- The month of November has the greatest impact on the price, with the event coefficient 144 while the next highest month is at 28.\n",
    "- Venue score is the highest coefficient but the value is between 0 and 1. In other words, price for venue score increase by 2.1 per .01. \n",
    "- Small capacity venues, events starting at 5 or 10, and events in August yield higher values.\n",
    "- Events starting at 11, in a large venue, in October, yield exceptionally low prices."
   ]
  },
  {
   "cell_type": "code",
   "execution_count": 14,
   "metadata": {},
   "outputs": [
    {
     "name": "stderr",
     "output_type": "stream",
     "text": [
      "/Users/chrischung/anaconda3/lib/python3.6/site-packages/scipy/stats/stats.py:1713: FutureWarning: Using a non-tuple sequence for multidimensional indexing is deprecated; use `arr[tuple(seq)]` instead of `arr[seq]`. In the future this will be interpreted as an array index, `arr[np.array(seq)]`, which will result either in an error or a different result.\n",
      "  return np.add.reduce(sorted[indexer] * weights, axis=axis) / sumval\n"
     ]
    },
    {
     "data": {
      "image/png": "[encoded data removed]",
      "text/plain": [
       "<Figure size 432x288 with 1 Axes>"
      ]
     },
     "metadata": {
      "needs_background": "light"
     },
     "output_type": "display_data"
    }
   ],
   "source": [
    "# Make a residual plot to visualize our models fit to the actual v. predicted data\n",
    "sns.regplot(y_test, y_pred, color=\"r\");"
   ]
  },
  {
   "cell_type": "markdown",
   "metadata": {},
   "source": []
  }
 ],
 "metadata": {
  "kernelspec": {
   "display_name": "Python 3",
   "language": "python",
   "name": "python3"
  },
  "language_info": {
   "codemirror_mode": {
    "name": "ipython",
    "version": 3
   },
   "file_extension": ".py",
   "mimetype": "text/x-python",
   "name": "python",
   "nbconvert_exporter": "python",
   "pygments_lexer": "ipython3",
   "version": "3.6.7"
  }
 },
 "nbformat": 4,
 "nbformat_minor": 2
}
