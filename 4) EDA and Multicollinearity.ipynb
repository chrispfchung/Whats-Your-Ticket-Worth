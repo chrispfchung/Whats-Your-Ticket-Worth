{
 "cells": [
  {
   "cell_type": "markdown",
   "metadata": {},
   "source": [
    "# EDA"
   ]
  },
  {
   "cell_type": "markdown",
   "metadata": {},
   "source": [
    "## Load libraries and read in pickles"
   ]
  },
  {
   "cell_type": "code",
   "execution_count": 62,
   "metadata": {},
   "outputs": [],
   "source": [
    "import pandas as pd\n",
    "import pickle\n",
    "import numpy as np\n",
    "import matplotlib.pyplot as plt\n",
    "%matplotlib inline\n",
    "import seaborn as sns\n",
    "from sklearn.feature_selection import RFE\n",
    "from sklearn.linear_model import LinearRegression\n",
    "from sklearn.model_selection import train_test_split\n",
    "import statsmodels.api as sm\n",
    "import sklearn.metrics"
   ]
  },
  {
   "cell_type": "code",
   "execution_count": 63,
   "metadata": {},
   "outputs": [],
   "source": [
    "c_df = pd.read_pickle('./c_df.pkl')"
   ]
  },
  {
   "cell_type": "code",
   "execution_count": 64,
   "metadata": {},
   "outputs": [],
   "source": [
    "c_df = c_df.reset_index()\n",
    "c_df.drop(columns='index', inplace=True)"
   ]
  },
  {
   "cell_type": "markdown",
   "metadata": {},
   "source": [
    "## Make minor changes to data"
   ]
  },
  {
   "cell_type": "code",
   "execution_count": 65,
   "metadata": {},
   "outputs": [],
   "source": [
    "# lower case all cities / performer_genres\n",
    "c_df['performer_genre'] = c_df['performer_genre'].apply(lambda x: str.lower(x))\n",
    "# c_df['venue_city'] = c_df['venue_city'].apply(lambda x: str.lower(x))\n"
   ]
  },
  {
   "cell_type": "code",
   "execution_count": 66,
   "metadata": {},
   "outputs": [],
   "source": [
    "# Remove all performer genres with less than 10 count\n",
    "c_df = c_df[c_df.performer_genre != 'rnb']\n",
    "c_df = c_df[c_df.performer_genre != 'jazz']\n",
    "c_df = c_df[c_df.performer_genre != 'techno']\n",
    "c_df = c_df[c_df.performer_genre != 'folk']\n",
    "c_df = c_df[c_df.performer_genre != 'reggae']"
   ]
  },
  {
   "cell_type": "code",
   "execution_count": 67,
   "metadata": {},
   "outputs": [],
   "source": [
    "# Combine hard rock with rock\n",
    "c_df.performer_genre.replace('hard rock', 'rock', inplace=True)"
   ]
  },
  {
   "cell_type": "code",
   "execution_count": 68,
   "metadata": {},
   "outputs": [],
   "source": [
    "# Change cities into region (Upstate NY, New York City, Long Island)\n",
    "# Add cities into NYC which consists of the 5 boroughs\n",
    "c_df['venue_region'] = c_df.venue_city.replace(['New York', 'Brooklyn', 'Staten Island', 'Forest Hills',\n",
    "                                                'Flushing', 'Elmhurst', 'Maspeth'], 'new york city')\n",
    "# Add cities into upstate region\n",
    "c_df['venue_region'].replace(['Buffalo', 'Pawling', 'Albany', 'Port Chester', 'Ithaca',\n",
    "                                               'Rochester', 'Syracuse', 'Tarrytown', 'Clifton Park',\n",
    "                                               'Poughkeepsie', 'Verona', 'Saratoga Springs', 'Niagara Falls',\n",
    "                                               'Darien Center', 'Canandaigua', 'Geneva', 'Lewiston', 'Hudson',\n",
    "                                               'Schenectady', 'Corning', 'Binghamton', 'Woodstock',\n",
    "                                               'Cooperstown', 'Liverpool', 'North Tonawanda',\n",
    "                              'Niagra Falls', 'Bethel', 'Kingston'], 'upstate',\n",
    "                                              inplace=True)\n",
    "\n",
    "#Add cities into Long Island region\n",
    "c_df.venue_region.replace(['Westbury', 'Huntington', 'Wantagh', 'Greenvale', 'Uniondale',\n",
    "                                               'Farmingville'], 'long island', inplace=True)\n",
    "\n",
    "c_df.venue_city = c_df.venue_city.apply(lambda x: str(x).lower())\n"
   ]
  },
  {
   "cell_type": "code",
   "execution_count": 69,
   "metadata": {},
   "outputs": [
    {
     "data": {
      "text/html": [
       "<div>\n",
       "<style scoped>\n",
       "    .dataframe tbody tr th:only-of-type {\n",
       "        vertical-align: middle;\n",
       "    }\n",
       "\n",
       "    .dataframe tbody tr th {\n",
       "        vertical-align: top;\n",
       "    }\n",
       "\n",
       "    .dataframe thead th {\n",
       "        text-align: right;\n",
       "    }\n",
       "</style>\n",
       "<table border=\"1\" class=\"dataframe\">\n",
       "  <thead>\n",
       "    <tr style=\"text-align: right;\">\n",
       "      <th></th>\n",
       "      <th>average_price</th>\n",
       "      <th>highest_price</th>\n",
       "      <th>lowest_price</th>\n",
       "      <th>performer_genre</th>\n",
       "      <th>ticket_listing_count</th>\n",
       "      <th>venue_city</th>\n",
       "      <th>event_month</th>\n",
       "      <th>event_day</th>\n",
       "      <th>event_start</th>\n",
       "      <th>time_of_day</th>\n",
       "      <th>wkend_wkday</th>\n",
       "      <th>venue_capacity</th>\n",
       "      <th>venue_score</th>\n",
       "      <th>venue_region</th>\n",
       "    </tr>\n",
       "  </thead>\n",
       "  <tbody>\n",
       "    <tr>\n",
       "      <th>0</th>\n",
       "      <td>337.0</td>\n",
       "      <td>584.0</td>\n",
       "      <td>253.0</td>\n",
       "      <td>rock</td>\n",
       "      <td>4.0</td>\n",
       "      <td>brooklyn</td>\n",
       "      <td>02</td>\n",
       "      <td>Fri</td>\n",
       "      <td>19</td>\n",
       "      <td>evening</td>\n",
       "      <td>weekend</td>\n",
       "      <td>small</td>\n",
       "      <td>0.431162</td>\n",
       "      <td>new york city</td>\n",
       "    </tr>\n",
       "    <tr>\n",
       "      <th>1</th>\n",
       "      <td>337.0</td>\n",
       "      <td>584.0</td>\n",
       "      <td>253.0</td>\n",
       "      <td>electronic</td>\n",
       "      <td>4.0</td>\n",
       "      <td>new york</td>\n",
       "      <td>02</td>\n",
       "      <td>Fri</td>\n",
       "      <td>19</td>\n",
       "      <td>evening</td>\n",
       "      <td>weekend</td>\n",
       "      <td>small</td>\n",
       "      <td>0.455722</td>\n",
       "      <td>new york city</td>\n",
       "    </tr>\n",
       "    <tr>\n",
       "      <th>2</th>\n",
       "      <td>22.0</td>\n",
       "      <td>24.0</td>\n",
       "      <td>20.0</td>\n",
       "      <td>rock</td>\n",
       "      <td>3.0</td>\n",
       "      <td>port chester</td>\n",
       "      <td>02</td>\n",
       "      <td>Fri</td>\n",
       "      <td>20</td>\n",
       "      <td>evening</td>\n",
       "      <td>weekend</td>\n",
       "      <td>large_venue</td>\n",
       "      <td>0.636922</td>\n",
       "      <td>upstate</td>\n",
       "    </tr>\n",
       "    <tr>\n",
       "      <th>3</th>\n",
       "      <td>45.0</td>\n",
       "      <td>80.0</td>\n",
       "      <td>30.0</td>\n",
       "      <td>pop</td>\n",
       "      <td>4.0</td>\n",
       "      <td>westbury</td>\n",
       "      <td>02</td>\n",
       "      <td>Fri</td>\n",
       "      <td>20</td>\n",
       "      <td>evening</td>\n",
       "      <td>weekend</td>\n",
       "      <td>large_venue</td>\n",
       "      <td>0.501232</td>\n",
       "      <td>long island</td>\n",
       "    </tr>\n",
       "    <tr>\n",
       "      <th>4</th>\n",
       "      <td>92.0</td>\n",
       "      <td>120.0</td>\n",
       "      <td>71.0</td>\n",
       "      <td>alternative</td>\n",
       "      <td>10.0</td>\n",
       "      <td>new york</td>\n",
       "      <td>02</td>\n",
       "      <td>Fri</td>\n",
       "      <td>20</td>\n",
       "      <td>evening</td>\n",
       "      <td>weekend</td>\n",
       "      <td>XL_venue</td>\n",
       "      <td>0.681791</td>\n",
       "      <td>new york city</td>\n",
       "    </tr>\n",
       "  </tbody>\n",
       "</table>\n",
       "</div>"
      ],
      "text/plain": [
       "   average_price  highest_price  lowest_price performer_genre  \\\n",
       "0          337.0          584.0         253.0            rock   \n",
       "1          337.0          584.0         253.0      electronic   \n",
       "2           22.0           24.0          20.0            rock   \n",
       "3           45.0           80.0          30.0             pop   \n",
       "4           92.0          120.0          71.0     alternative   \n",
       "\n",
       "   ticket_listing_count    venue_city event_month event_day  event_start  \\\n",
       "0                   4.0      brooklyn          02       Fri           19   \n",
       "1                   4.0      new york          02       Fri           19   \n",
       "2                   3.0  port chester          02       Fri           20   \n",
       "3                   4.0      westbury          02       Fri           20   \n",
       "4                  10.0      new york          02       Fri           20   \n",
       "\n",
       "  time_of_day wkend_wkday venue_capacity  venue_score   venue_region  \n",
       "0     evening     weekend          small     0.431162  new york city  \n",
       "1     evening     weekend          small     0.455722  new york city  \n",
       "2     evening     weekend    large_venue     0.636922        upstate  \n",
       "3     evening     weekend    large_venue     0.501232    long island  \n",
       "4     evening     weekend       XL_venue     0.681791  new york city  "
      ]
     },
     "execution_count": 69,
     "metadata": {},
     "output_type": "execute_result"
    }
   ],
   "source": [
    "#Drop all venue scores == 0\n",
    "c_df = c_df[c_df['venue_score']!=0]\n",
    "c_df.reset_index(drop=True)\n",
    "c_df.head()"
   ]
  },
  {
   "cell_type": "markdown",
   "metadata": {},
   "source": [
    "## Exploring with data visualizations"
   ]
  },
  {
   "cell_type": "markdown",
   "metadata": {},
   "source": [
    "### Number of genres"
   ]
  },
  {
   "cell_type": "markdown",
   "metadata": {},
   "source": [
    "- Pop by far has a lot more around 600.\n",
    "- The rest of the genres hover <100."
   ]
  },
  {
   "cell_type": "code",
   "execution_count": 71,
   "metadata": {},
   "outputs": [
    {
     "data": {
      "image/png": "[encoded data removed]",
      "text/plain": [
       "<Figure size 720x360 with 1 Axes>"
      ]
     },
     "metadata": {},
     "output_type": "display_data"
    }
   ],
   "source": [
    "# Bar graph histogram of performer genres\n",
    "with sns.axes_style('darkgrid'):\n",
    "    g = sns.catplot(\"performer_genre\", data=c_df, aspect=2,\n",
    "                       kind=\"count\", color='red')\n",
    "    g.set_xticklabels(step=1)"
   ]
  },
  {
   "cell_type": "markdown",
   "metadata": {},
   "source": [
    "### Number of Events by Region"
   ]
  },
  {
   "cell_type": "markdown",
   "metadata": {},
   "source": [
    "- NYC around 600 events\n",
    "- Upstate around 300 events\n",
    "- Long island around 100 events"
   ]
  },
  {
   "cell_type": "code",
   "execution_count": 72,
   "metadata": {},
   "outputs": [
    {
     "data": {
      "image/png": "[encoded data removed]",
      "text/plain": [
       "<Figure size 720x360 with 1 Axes>"
      ]
     },
     "metadata": {},
     "output_type": "display_data"
    }
   ],
   "source": [
    "# Bar graph histogram of performer genres\n",
    "## NYC by far has the most\n",
    "with sns.axes_style('whitegrid'):\n",
    "    g = sns.catplot(\"venue_region\", data=c_df, aspect=2,\n",
    "                       kind=\"count\", color='green')\n",
    "    g.set_xticklabels(step=1)"
   ]
  },
  {
   "cell_type": "markdown",
   "metadata": {},
   "source": [
    "## Examining Average Price by Month"
   ]
  },
  {
   "cell_type": "markdown",
   "metadata": {},
   "source": [
    "*<font color=black>This box plot shows that in August, the average price is generally the highest. <br> There are barely any events in November. <br> In March, the prices are sporadic and contain outliers prices with the minimum around \\\\$100 and the highest \\\\$1750.</font>*"
   ]
  },
  {
   "cell_type": "code",
   "execution_count": 11,
   "metadata": {},
   "outputs": [
    {
     "data": {
      "text/plain": [
       "<matplotlib.axes._subplots.AxesSubplot at 0x1c1ee13358>"
      ]
     },
     "execution_count": 11,
     "metadata": {},
     "output_type": "execute_result"
    },
    {
     "data": {
      "image/png": "[encoded data removed]",
      "text/plain": [
       "<Figure size 432x288 with 1 Axes>"
      ]
     },
     "metadata": {
      "needs_background": "light"
     },
     "output_type": "display_data"
    }
   ],
   "source": [
    "sns.boxplot(x=\"event_month\", y=\"average_price\", data=c_df)"
   ]
  },
  {
   "cell_type": "code",
   "execution_count": 75,
   "metadata": {},
   "outputs": [
    {
     "data": {
      "image/png": "[encoded data removed]",
      "text/plain": [
       "<Figure size 720x360 with 1 Axes>"
      ]
     },
     "metadata": {},
     "output_type": "display_data"
    }
   ],
   "source": [
    "# Bar graph histogram of event_months\n",
    "with sns.axes_style('darkgrid'):\n",
    "    g = sns.catplot(\"event_month\", data=c_df, aspect=2,\n",
    "                       kind=\"count\", color='brown')\n",
    "    g.set_xticklabels(step=1)\n",
    "# we have a lot more events between february and april"
   ]
  },
  {
   "cell_type": "code",
   "execution_count": 14,
   "metadata": {},
   "outputs": [
    {
     "data": {
      "image/png": "[encoded data removed]",
      "text/plain": [
       "<Figure size 720x360 with 1 Axes>"
      ]
     },
     "metadata": {},
     "output_type": "display_data"
    }
   ],
   "source": [
    "# Bar graph histogram of start times\n",
    "with sns.axes_style('whitegrid'):\n",
    "    g = sns.catplot(\"event_start\", data=c_df, aspect=2,\n",
    "                       kind=\"count\", color='steelblue')\n",
    "    g.set_xticklabels(step=1)"
   ]
  },
  {
   "cell_type": "markdown",
   "metadata": {},
   "source": [
    "## Exploring pricing"
   ]
  },
  {
   "cell_type": "code",
   "execution_count": 80,
   "metadata": {},
   "outputs": [
    {
     "data": {
      "text/plain": [
       "array([<matplotlib.axes._subplots.AxesSubplot object at 0x1c22f51e80>],\n",
       "      dtype=object)"
      ]
     },
     "execution_count": 80,
     "metadata": {},
     "output_type": "execute_result"
    },
    {
     "data": {
      "image/png": "[encoded data removed]",
      "text/plain": [
       "<Figure size 432x288 with 1 Axes>"
      ]
     },
     "metadata": {
      "needs_background": "light"
     },
     "output_type": "display_data"
    }
   ],
   "source": [
    "c_df['average_price'].plot(kind='density', title='Density Plot of Average Price', color='red', subplots=True)"
   ]
  },
  {
   "cell_type": "code",
   "execution_count": 83,
   "metadata": {},
   "outputs": [
    {
     "data": {
      "text/plain": [
       "<matplotlib.axes._subplots.AxesSubplot at 0x1c23156588>"
      ]
     },
     "execution_count": 83,
     "metadata": {},
     "output_type": "execute_result"
    },
    {
     "data": {
      "image/png": "[encoded data removed]",
      "text/plain": [
       "<Figure size 432x288 with 1 Axes>"
      ]
     },
     "metadata": {
      "needs_background": "light"
     },
     "output_type": "display_data"
    }
   ],
   "source": [
    "c_df['average_price'].plot(kind='density', title='Density Plot of Average Price', color='red',legend=True)"
   ]
  },
  {
   "cell_type": "code",
   "execution_count": 84,
   "metadata": {},
   "outputs": [
    {
     "data": {
      "text/plain": [
       "<matplotlib.axes._subplots.AxesSubplot at 0x1c23163f60>"
      ]
     },
     "execution_count": 84,
     "metadata": {},
     "output_type": "execute_result"
    },
    {
     "data": {
      "image/png": "[encoded data removed]",
      "text/plain": [
       "<Figure size 432x288 with 1 Axes>"
      ]
     },
     "metadata": {
      "needs_background": "light"
     },
     "output_type": "display_data"
    }
   ],
   "source": [
    "c_df['highest_price'].plot(kind='density', title='Density Plot of Highest Price', color='Green', legend=True)"
   ]
  },
  {
   "cell_type": "code",
   "execution_count": 85,
   "metadata": {},
   "outputs": [
    {
     "data": {
      "text/plain": [
       "<matplotlib.axes._subplots.AxesSubplot at 0x1c2347f6a0>"
      ]
     },
     "execution_count": 85,
     "metadata": {},
     "output_type": "execute_result"
    },
    {
     "data": {
      "image/png": "[encoded data removed]",
      "text/plain": [
       "<Figure size 432x288 with 1 Axes>"
      ]
     },
     "metadata": {
      "needs_background": "light"
     },
     "output_type": "display_data"
    }
   ],
   "source": [
    "c_df['lowest_price'].plot(kind='density', title='Density Plot of Lowest Price', color='blue', legend=True)"
   ]
  },
  {
   "cell_type": "markdown",
   "metadata": {},
   "source": [
    "<br>"
   ]
  },
  {
   "cell_type": "markdown",
   "metadata": {},
   "source": [
    "## Prep to make dummy dataframe"
   ]
  },
  {
   "cell_type": "markdown",
   "metadata": {},
   "source": [
    "###  Create feature dataframe"
   ]
  },
  {
   "cell_type": "code",
   "execution_count": 15,
   "metadata": {},
   "outputs": [
    {
     "data": {
      "text/plain": [
       "Index(['average_price', 'highest_price', 'lowest_price', 'performer_genre',\n",
       "       'ticket_listing_count', 'venue_city', 'event_month', 'event_day',\n",
       "       'event_start', 'time_of_day', 'wkend_wkday', 'venue_capacity',\n",
       "       'venue_score', 'venue_region'],\n",
       "      dtype='object')"
      ]
     },
     "execution_count": 15,
     "metadata": {},
     "output_type": "execute_result"
    }
   ],
   "source": [
    "c_df.columns"
   ]
  },
  {
   "cell_type": "code",
   "execution_count": 16,
   "metadata": {},
   "outputs": [],
   "source": [
    "# Drop venue city because feature engineered venue region // venue_score\n",
    "# c_df.drop(columns=['venue_score'],inplace=True)\n",
    "c_df_features = pd.DataFrame(c_df, columns=['highest_price', 'lowest_price', 'performer_genre',\n",
    "                                            'ticket_listing_count', 'venue_city', 'event_month', 'event_day',\n",
    "                                            'event_start', 'time_of_day', 'wkend_wkday', 'venue_capacity',\n",
    "                                            'venue_region', 'venue_score'])"
   ]
  },
  {
   "cell_type": "code",
   "execution_count": 17,
   "metadata": {},
   "outputs": [],
   "source": [
    "c_df_features = c_df_features.reset_index(drop=True)"
   ]
  },
  {
   "cell_type": "markdown",
   "metadata": {},
   "source": [
    "###  Create target dataframe"
   ]
  },
  {
   "cell_type": "code",
   "execution_count": 18,
   "metadata": {
    "scrolled": true
   },
   "outputs": [],
   "source": [
    "c_df_target = pd.DataFrame(c_df, columns=['average_price'])\n",
    "c_df_target = c_df_target.reset_index(drop=True)"
   ]
  },
  {
   "cell_type": "code",
   "execution_count": 19,
   "metadata": {},
   "outputs": [
    {
     "data": {
      "text/plain": [
       "['highest_price',\n",
       " 'lowest_price',\n",
       " 'performer_genre',\n",
       " 'ticket_listing_count',\n",
       " 'venue_city',\n",
       " 'event_month',\n",
       " 'event_day',\n",
       " 'event_start',\n",
       " 'time_of_day',\n",
       " 'wkend_wkday']"
      ]
     },
     "execution_count": 19,
     "metadata": {},
     "output_type": "execute_result"
    }
   ],
   "source": [
    "list(c_df_features)[0:10]"
   ]
  },
  {
   "cell_type": "markdown",
   "metadata": {},
   "source": [
    "<br>"
   ]
  },
  {
   "cell_type": "markdown",
   "metadata": {},
   "source": [
    "## Multicollineraity"
   ]
  },
  {
   "cell_type": "code",
   "execution_count": 57,
   "metadata": {},
   "outputs": [
    {
     "data": {
      "text/html": [
       "<div>\n",
       "<style scoped>\n",
       "    .dataframe tbody tr th:only-of-type {\n",
       "        vertical-align: middle;\n",
       "    }\n",
       "\n",
       "    .dataframe tbody tr th {\n",
       "        vertical-align: top;\n",
       "    }\n",
       "\n",
       "    .dataframe thead th {\n",
       "        text-align: right;\n",
       "    }\n",
       "</style>\n",
       "<table border=\"1\" class=\"dataframe\">\n",
       "  <thead>\n",
       "    <tr style=\"text-align: right;\">\n",
       "      <th></th>\n",
       "      <th>highest_price</th>\n",
       "      <th>lowest_price</th>\n",
       "      <th>ticket_listing_count</th>\n",
       "      <th>event_start</th>\n",
       "      <th>venue_score</th>\n",
       "    </tr>\n",
       "  </thead>\n",
       "  <tbody>\n",
       "    <tr>\n",
       "      <th>highest_price</th>\n",
       "      <td>True</td>\n",
       "      <td>False</td>\n",
       "      <td>False</td>\n",
       "      <td>False</td>\n",
       "      <td>False</td>\n",
       "    </tr>\n",
       "    <tr>\n",
       "      <th>lowest_price</th>\n",
       "      <td>False</td>\n",
       "      <td>True</td>\n",
       "      <td>False</td>\n",
       "      <td>False</td>\n",
       "      <td>False</td>\n",
       "    </tr>\n",
       "    <tr>\n",
       "      <th>ticket_listing_count</th>\n",
       "      <td>False</td>\n",
       "      <td>False</td>\n",
       "      <td>True</td>\n",
       "      <td>False</td>\n",
       "      <td>False</td>\n",
       "    </tr>\n",
       "    <tr>\n",
       "      <th>event_start</th>\n",
       "      <td>False</td>\n",
       "      <td>False</td>\n",
       "      <td>False</td>\n",
       "      <td>True</td>\n",
       "      <td>False</td>\n",
       "    </tr>\n",
       "    <tr>\n",
       "      <th>venue_score</th>\n",
       "      <td>False</td>\n",
       "      <td>False</td>\n",
       "      <td>False</td>\n",
       "      <td>False</td>\n",
       "      <td>True</td>\n",
       "    </tr>\n",
       "  </tbody>\n",
       "</table>\n",
       "</div>"
      ],
      "text/plain": [
       "                      highest_price  lowest_price  ticket_listing_count  \\\n",
       "highest_price                  True         False                 False   \n",
       "lowest_price                  False          True                 False   \n",
       "ticket_listing_count          False         False                  True   \n",
       "event_start                   False         False                 False   \n",
       "venue_score                   False         False                 False   \n",
       "\n",
       "                      event_start  venue_score  \n",
       "highest_price               False        False  \n",
       "lowest_price                False        False  \n",
       "ticket_listing_count        False        False  \n",
       "event_start                  True        False  \n",
       "venue_score                 False         True  "
      ]
     },
     "execution_count": 57,
     "metadata": {},
     "output_type": "execute_result"
    }
   ],
   "source": [
    "corr = c_df_features.corr()\n",
    "abs(corr) >  .75\n",
    "#None are too correlated"
   ]
  },
  {
   "cell_type": "code",
   "execution_count": 59,
   "metadata": {},
   "outputs": [
    {
     "data": {
      "image/png": "[encoded data removed]",
      "text/plain": [
       "<Figure size 720x720 with 2 Axes>"
      ]
     },
     "metadata": {
      "needs_background": "light"
     },
     "output_type": "display_data"
    }
   ],
   "source": [
    "# can also look at heat maps to see correlation. don't want variables that have colors at \n",
    "# either spectrum\n",
    "mask = np.zeros_like(corr, dtype=np.bool)\n",
    "cmap = sns.diverging_palette(220, 10, as_cmap=True) #sets the color\n",
    "mask[np.triu_indices_from(mask)] = True \n",
    "\n",
    "fig, ax = plt.subplots(figsize=(10,10))         # Sample figsize in inches\n",
    "sns.heatmap(corr, mask=mask, cmap=cmap, center=0,\n",
    "            square=True, linewidths=.5, cbar_kws={\"shrink\": .5});\n",
    "\n",
    "#ticket listing count and venue score maybe highly correlated because venue score depends on how well the venue sells their tickets"
   ]
  },
  {
   "cell_type": "code",
   "execution_count": 29,
   "metadata": {},
   "outputs": [],
   "source": [
    "c_df.drop(columns = ['venue_city'], inplace=True)"
   ]
  },
  {
   "cell_type": "code",
   "execution_count": 31,
   "metadata": {},
   "outputs": [],
   "source": [
    "c_df = pd.get_dummies(c_df, columns=['performer_genre',\\\n",
    "                              'event_month','event_day'\\\n",
    "                              ,'time_of_day','wkend_wkday', 'event_start',\\\n",
    "                             'venue_capacity', 'venue_region'])"
   ]
  },
  {
   "cell_type": "code",
   "execution_count": 32,
   "metadata": {},
   "outputs": [],
   "source": [
    "#Pickle everything with dummy values\n",
    "c_df.to_pickle('./c_df_dummies.pkl')"
   ]
  }
 ],
 "metadata": {
  "kernelspec": {
   "display_name": "Python 3",
   "language": "python",
   "name": "python3"
  },
  "language_info": {
   "codemirror_mode": {
    "name": "ipython",
    "version": 3
   },
   "file_extension": ".py",
   "mimetype": "text/x-python",
   "name": "python",
   "nbconvert_exporter": "python",
   "pygments_lexer": "ipython3",
   "version": "3.6.7"
  }
 },
 "nbformat": 4,
 "nbformat_minor": 2
}
