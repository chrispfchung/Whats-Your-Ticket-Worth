{
 "cells": [
  {
   "cell_type": "markdown",
   "metadata": {},
   "source": [
    "# SeatGeek Concert, Music Festival & Broadway Data "
   ]
  },
  {
   "cell_type": "markdown",
   "metadata": {},
   "source": [
    "## Import Libraries"
   ]
  },
  {
   "cell_type": "code",
   "execution_count": 2,
   "metadata": {},
   "outputs": [],
   "source": [
    "import urllib\n",
    "import requests\n",
    "import json\n",
    "import pandas as pd"
   ]
  },
  {
   "cell_type": "markdown",
   "metadata": {},
   "source": [
    "## Control Center / Base URL Location"
   ]
  },
  {
   "cell_type": "code",
   "execution_count": 3,
   "metadata": {},
   "outputs": [],
   "source": [
    "# # CONTROL CENTER / BASE URL LOCATION\n",
    "# # Testing\n",
    "# client_ID = ''\n",
    "# client_SECRET = 'aa2c.......'\n",
    "# url = 'https://api.seatgeek.com/2/events/?' + 'client_id=' + client_ID\n",
    "# r = requests.get(url)\n",
    "# # r.json()"
   ]
  },
  {
   "cell_type": "code",
   "execution_count": 4,
   "metadata": {},
   "outputs": [],
   "source": [
    "# data = r.json()\n",
    "# data"
   ]
  },
  {
   "cell_type": "markdown",
   "metadata": {},
   "source": [
    "## Birds eye view of Concerts"
   ]
  },
  {
   "cell_type": "code",
   "execution_count": 11,
   "metadata": {},
   "outputs": [
    {
     "data": {
      "text/plain": [
       "{'links': [],\n",
       " 'metro_code': 501,\n",
       " 'postal_code': '11701',\n",
       " 'timezone': 'America/New_York',\n",
       " 'pass_types': [],\n",
       " 'has_upcoming_events': True,\n",
       " 'id': 8542,\n",
       " 'city': 'Amityville',\n",
       " 'extended_address': 'Amityville, NY 11701',\n",
       " 'display_location': 'Amityville, NY',\n",
       " 'state': 'NY',\n",
       " 'score': 0.3983748,\n",
       " 'location': {'lat': 40.6713, 'lon': -73.4168},\n",
       " 'access_method': None,\n",
       " 'num_upcoming_events': 15,\n",
       " 'address': '140 Merrick Road',\n",
       " 'capacity': 0,\n",
       " 'slug': 'revolution-bar-music-hall',\n",
       " 'name': 'Revolution Bar & Music Hall',\n",
       " 'url': 'https://seatgeek.com/venues/revolution-bar-music-hall/tickets',\n",
       " 'country': 'US',\n",
       " 'popularity': 0,\n",
       " 'name_v2': 'Revolution Bar & Music Hall'}"
      ]
     },
     "execution_count": 11,
     "metadata": {},
     "output_type": "execute_result"
    }
   ],
   "source": [
    "# Look at NY concerts metadata\n",
    "# Testing for 1 result\n",
    "url = 'https://api.seatgeek.com/2/events?type=concert\\\n",
    "&venue.state=NY&client_id=' + client_ID + \\\n",
    "'&per_page=5&format=json'\n",
    "r = requests.get(url)\n",
    "events = r.json()\n",
    "events['events'][1]['venue']"
   ]
  },
  {
   "cell_type": "markdown",
   "metadata": {},
   "source": [
    "## Calling SeatGeek API for NY venue data for concerts"
   ]
  },
  {
   "cell_type": "code",
   "execution_count": 24,
   "metadata": {},
   "outputs": [
    {
     "name": "stdout",
     "output_type": "stream",
     "text": [
      "{'geolocation': None, 'per_page': 5, 'total': 2880, 'took': 10, 'page': 1}\n"
     ]
    }
   ],
   "source": [
    "#I want to see how many events I will be working with\n",
    "url = 'https://api.seatgeek.com/2/events?type=concert\\\n",
    "&venue.state=NY&client_id=' + client_ID + \\\n",
    "'&per_page=5&format=json'\n",
    "r = requests.get(url)\n",
    "events = r.json()\n",
    "print(events['meta'])\n",
    "# Number of concert events: 2880"
   ]
  },
  {
   "cell_type": "code",
   "execution_count": 29,
   "metadata": {},
   "outputs": [],
   "source": [
    "#Pulling venue data (name, score, capacity) for specified event type (concerts, festivals, broadway shows)\n",
    "\n",
    "def ny_venues(type_concert):\n",
    "    parsed_events = []\n",
    "    for i in range(1,4): # Iterate 3 times, 1000 results per page to obtain all (2880) results\n",
    "        url = 'https://api.seatgeek.com/2/events?type='+type_concert+\\\n",
    "        '&venue.state=NY&client_id=' + client_ID + \\\n",
    "        '&per_page=1000&format=json&page='+str(i)\n",
    "        r = requests.get(url)\n",
    "        events = r.json()\n",
    "        for j in range(1, 1000):\n",
    "            current_event = {}\n",
    "            current_event['venue_name'] = events['events'][j]['venue']['name']\n",
    "            current_event['venue_score'] = events['events'][j]['venue']['score']\n",
    "            current_event['venue_capacity'] = events['events'][j]['venue']['capacity']\n",
    "            \n",
    "            if i == 3 and j == 878: #Break at 2880 so code is not out of range\n",
    "                break\n",
    "            parsed_events.append(current_event)\n",
    "    with open('NY_Venues.json', 'w') as f: # Put results into json file\n",
    "        json.dump(parsed_events, f)    \n",
    "    return parsed_events\n",
    "\n",
    "#Code already ran, event results created in NY_Venues json file"
   ]
  },
  {
   "cell_type": "markdown",
   "metadata": {},
   "source": [
    "## Calling NY Concert Event data"
   ]
  },
  {
   "cell_type": "code",
   "execution_count": 8,
   "metadata": {},
   "outputs": [],
   "source": [
    "# This function is pulling concert event details such as pricing, genre, important dates, etc.\n",
    "client_ID = 'MTUwODYzODJ8MTU0ODg3NjU2Mi4yOQ'\n",
    "# client_SECRET = 'aa2c.......'\n",
    "# as of 2/1/2019 , there are 2796\n",
    "def ny_events(type_concert):\n",
    "    parsed_events= []\n",
    "\n",
    "    for i in range(1, 4):\n",
    "        url = 'https://api.seatgeek.com/2/events?type='+type_concert+\\\n",
    "        '&venue.state=NY&client_id=' + client_ID + \\\n",
    "        '&per_page=1000&format=json&page='+str(i)\n",
    "        r = requests.get(url)\n",
    "        events = r.json()\n",
    "        for j in range(1, 1000):\n",
    "            stats = events['events'][j]['stats']\n",
    "            current_event = {}\n",
    "            current_event['event_title']= events['events'][j]['title']\n",
    "            current_event['type_event']= events['events'][j]['type']\n",
    "            current_event['date&time_event']= events['events'][j]['datetime_local']\n",
    "            current_event['performer_name']= events['events'][j]['performers'][0]['name']\n",
    "            if 'genres' not in events['events'][j]['performers'][0].keys():\n",
    "                current_event['performer_genre'] = 'NaN'\n",
    "            else:\n",
    "                current_event['performer_genre']= events['events'][j]['performers'][0]['genres'][0]['name']\n",
    "            current_event['ticket_listing_count']= stats['listing_count']\n",
    "            current_event['average_price']= stats['average_price']\n",
    "            current_event['median_price']= stats['median_price']\n",
    "            current_event['lowest_price']= stats['lowest_price']\n",
    "            current_event['highest_price']= stats['highest_price']\n",
    "            current_event['venue_name']= events['events'][j]['venue']['name']\n",
    "            current_event['venue_city']= events['events'][j]['venue']['city']\n",
    "            current_event['venue_zipcode']= events['events'][j]['venue']['postal_code']\n",
    "            current_event['announce_date']= events['events'][j]['announce_date']\n",
    "            current_event['visible_until_utc']= events['events'][j]['visible_until_utc']\n",
    "            current_event['upcoming_events?'] = events['events'][j]['venue']['has_upcoming_events']\n",
    "            print(range(1,j))\n",
    "            if i == 3 and j == 791:\n",
    "                break\n",
    "            parsed_events.append(current_event)\n",
    "    with open('NY_Concerts.json', 'w') as f:\n",
    "        json.dump(parsed_events, f)    \n",
    "    return parsed_events\n",
    "# ny_events('concert') "
   ]
  }
 ],
 "metadata": {
  "kernelspec": {
   "display_name": "Python 3",
   "language": "python",
   "name": "python3"
  },
  "language_info": {
   "codemirror_mode": {
    "name": "ipython",
    "version": 3
   },
   "file_extension": ".py",
   "mimetype": "text/x-python",
   "name": "python",
   "nbconvert_exporter": "python",
   "pygments_lexer": "ipython3",
   "version": "3.6.7"
  }
 },
 "nbformat": 4,
 "nbformat_minor": 2
}
