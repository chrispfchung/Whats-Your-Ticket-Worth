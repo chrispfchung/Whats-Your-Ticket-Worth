{
 "cells": [
  {
   "cell_type": "markdown",
   "metadata": {},
   "source": [
    "## view pandas / load libraries"
   ]
  },
  {
   "cell_type": "code",
   "execution_count": 1,
   "metadata": {
    "scrolled": true
   },
   "outputs": [],
   "source": [
    "import pandas as pd\n",
    "import numpy as np\n",
    "import matplotlib.pyplot as plt\n",
    "import seaborn as sns\n",
    "import datetime\n",
    "import re\n",
    "import json\n",
    "from dateutil.parser import parse\n",
    "import pytz\n",
    "from sklearn import preprocessing, datasets, linear_model\n",
    "from sklearn.preprocessing import MultiLabelBinarizer\n",
    "from sklearn.metrics import mean_squared_error, r2_score\n",
    "import collections\n",
    "import pickle"
   ]
  },
  {
   "cell_type": "code",
   "execution_count": 2,
   "metadata": {
    "scrolled": true
   },
   "outputs": [],
   "source": [
    "# Load the dataset\n",
    "c_df = pd.read_json('NY_Concerts.json')\n",
    "v_df = pd.read_json('NY_Venues.json')\n",
    "\n",
    "# Consistent numbers\n",
    "np.random.seed(0)"
   ]
  },
  {
   "cell_type": "code",
   "execution_count": 3,
   "metadata": {},
   "outputs": [],
   "source": [
    "#Drop useless columns\n",
    "c_df.dropna(subset=['average_price', 'date&time_event'], inplace=True)\n",
    "\n",
    "# Replace string nan to numpy nan\n",
    "c_df = c_df.replace('NaN', np.nan)\n",
    "\n",
    "# Events Json to Pandas DF"
   ]
  },
  {
   "cell_type": "code",
   "execution_count": 4,
   "metadata": {},
   "outputs": [
    {
     "name": "stdout",
     "output_type": "stream",
     "text": [
      "Stored 'missing_genres_artists' (list)\n"
     ]
    }
   ],
   "source": [
    "training = c_df[c_df['ticket_listing_count']>3]\n",
    "missing_genre_artists = training[training.performer_genre.isnull()]['performer_name'].unique()\n",
    "missing_genres_artists = list(missing_genre_artists)\n",
    "%store missing_genres_artists"
   ]
  },
  {
   "cell_type": "code",
   "execution_count": 5,
   "metadata": {},
   "outputs": [
    {
     "data": {
      "text/html": [
       "<div>\n",
       "<style scoped>\n",
       "    .dataframe tbody tr th:only-of-type {\n",
       "        vertical-align: middle;\n",
       "    }\n",
       "\n",
       "    .dataframe tbody tr th {\n",
       "        vertical-align: top;\n",
       "    }\n",
       "\n",
       "    .dataframe thead th {\n",
       "        text-align: right;\n",
       "    }\n",
       "</style>\n",
       "<table border=\"1\" class=\"dataframe\">\n",
       "  <thead>\n",
       "    <tr style=\"text-align: right;\">\n",
       "      <th></th>\n",
       "      <th>announce_date</th>\n",
       "      <th>average_price</th>\n",
       "      <th>date&amp;time_event</th>\n",
       "      <th>event_title</th>\n",
       "      <th>highest_price</th>\n",
       "      <th>lowest_price</th>\n",
       "      <th>median_price</th>\n",
       "      <th>performer_genre</th>\n",
       "      <th>performer_name</th>\n",
       "      <th>ticket_listing_count</th>\n",
       "      <th>type_event</th>\n",
       "      <th>upcoming_events?</th>\n",
       "      <th>venue_city</th>\n",
       "      <th>venue_name</th>\n",
       "      <th>venue_zipcode</th>\n",
       "      <th>visible_until_utc</th>\n",
       "    </tr>\n",
       "  </thead>\n",
       "  <tbody>\n",
       "    <tr>\n",
       "      <th>0</th>\n",
       "      <td>2019-02-21T00:00:00</td>\n",
       "      <td>71.0</td>\n",
       "      <td>2019-05-28T19:00:00</td>\n",
       "      <td>Bobby</td>\n",
       "      <td>161.0</td>\n",
       "      <td>87.0</td>\n",
       "      <td>67.0</td>\n",
       "      <td>Pop</td>\n",
       "      <td>Bobby</td>\n",
       "      <td>5.0</td>\n",
       "      <td>concert</td>\n",
       "      <td>True</td>\n",
       "      <td>Buffalo</td>\n",
       "      <td>Sheas Performing Arts Center</td>\n",
       "      <td>14202</td>\n",
       "      <td>2019-05-29T03:00:00</td>\n",
       "    </tr>\n",
       "    <tr>\n",
       "      <th>1</th>\n",
       "      <td>2019-05-09T00:00:00</td>\n",
       "      <td>20.0</td>\n",
       "      <td>2019-05-28T19:00:00</td>\n",
       "      <td>The Heroes</td>\n",
       "      <td>20.0</td>\n",
       "      <td>20.0</td>\n",
       "      <td>20.0</td>\n",
       "      <td>NaN</td>\n",
       "      <td>The Heroes</td>\n",
       "      <td>1.0</td>\n",
       "      <td>concert</td>\n",
       "      <td>True</td>\n",
       "      <td>Brooklyn</td>\n",
       "      <td>The Kingsland</td>\n",
       "      <td>11222</td>\n",
       "      <td>2019-05-29T03:00:00</td>\n",
       "    </tr>\n",
       "    <tr>\n",
       "      <th>2</th>\n",
       "      <td>2019-02-21T00:00:00</td>\n",
       "      <td>245.0</td>\n",
       "      <td>2019-05-28T19:00:00</td>\n",
       "      <td>The Japanese House (18+)</td>\n",
       "      <td>248.0</td>\n",
       "      <td>248.0</td>\n",
       "      <td>245.0</td>\n",
       "      <td>Alternative</td>\n",
       "      <td>The Japanese House</td>\n",
       "      <td>1.0</td>\n",
       "      <td>concert</td>\n",
       "      <td>True</td>\n",
       "      <td>New York</td>\n",
       "      <td>Webster Hall</td>\n",
       "      <td>10003</td>\n",
       "      <td>2019-05-29T03:00:00</td>\n",
       "    </tr>\n",
       "    <tr>\n",
       "      <th>4</th>\n",
       "      <td>2019-02-13T00:00:00</td>\n",
       "      <td>58.0</td>\n",
       "      <td>2019-05-28T19:00:00</td>\n",
       "      <td>Haruomi Hosono (16+)</td>\n",
       "      <td>64.0</td>\n",
       "      <td>52.0</td>\n",
       "      <td>58.0</td>\n",
       "      <td>NaN</td>\n",
       "      <td>Haruomi Hosono</td>\n",
       "      <td>5.0</td>\n",
       "      <td>concert</td>\n",
       "      <td>True</td>\n",
       "      <td>New York</td>\n",
       "      <td>Gramercy Theatre</td>\n",
       "      <td>10010</td>\n",
       "      <td>2019-05-29T03:00:00</td>\n",
       "    </tr>\n",
       "    <tr>\n",
       "      <th>6</th>\n",
       "      <td>2019-04-20T00:00:00</td>\n",
       "      <td>20.0</td>\n",
       "      <td>2019-05-28T19:00:00</td>\n",
       "      <td>Michelle Walker</td>\n",
       "      <td>20.0</td>\n",
       "      <td>20.0</td>\n",
       "      <td>20.0</td>\n",
       "      <td>NaN</td>\n",
       "      <td>Michelle Walker</td>\n",
       "      <td>1.0</td>\n",
       "      <td>concert</td>\n",
       "      <td>True</td>\n",
       "      <td>New York</td>\n",
       "      <td>Rockwood Music Hall - Stage 3</td>\n",
       "      <td>10002</td>\n",
       "      <td>2019-05-29T03:00:00</td>\n",
       "    </tr>\n",
       "  </tbody>\n",
       "</table>\n",
       "</div>"
      ],
      "text/plain": [
       "         announce_date  average_price      date&time_event  \\\n",
       "0  2019-02-21T00:00:00           71.0  2019-05-28T19:00:00   \n",
       "1  2019-05-09T00:00:00           20.0  2019-05-28T19:00:00   \n",
       "2  2019-02-21T00:00:00          245.0  2019-05-28T19:00:00   \n",
       "4  2019-02-13T00:00:00           58.0  2019-05-28T19:00:00   \n",
       "6  2019-04-20T00:00:00           20.0  2019-05-28T19:00:00   \n",
       "\n",
       "                event_title  highest_price  lowest_price  median_price  \\\n",
       "0                     Bobby          161.0          87.0          67.0   \n",
       "1                The Heroes           20.0          20.0          20.0   \n",
       "2  The Japanese House (18+)          248.0         248.0         245.0   \n",
       "4      Haruomi Hosono (16+)           64.0          52.0          58.0   \n",
       "6           Michelle Walker           20.0          20.0          20.0   \n",
       "\n",
       "  performer_genre      performer_name  ticket_listing_count type_event  \\\n",
       "0             Pop               Bobby                   5.0    concert   \n",
       "1             NaN          The Heroes                   1.0    concert   \n",
       "2     Alternative  The Japanese House                   1.0    concert   \n",
       "4             NaN      Haruomi Hosono                   5.0    concert   \n",
       "6             NaN     Michelle Walker                   1.0    concert   \n",
       "\n",
       "   upcoming_events? venue_city                     venue_name  venue_zipcode  \\\n",
       "0              True    Buffalo   Sheas Performing Arts Center          14202   \n",
       "1              True   Brooklyn                  The Kingsland          11222   \n",
       "2              True   New York                   Webster Hall          10003   \n",
       "4              True   New York               Gramercy Theatre          10010   \n",
       "6              True   New York  Rockwood Music Hall - Stage 3          10002   \n",
       "\n",
       "     visible_until_utc  \n",
       "0  2019-05-29T03:00:00  \n",
       "1  2019-05-29T03:00:00  \n",
       "2  2019-05-29T03:00:00  \n",
       "4  2019-05-29T03:00:00  \n",
       "6  2019-05-29T03:00:00  "
      ]
     },
     "execution_count": 5,
     "metadata": {},
     "output_type": "execute_result"
    }
   ],
   "source": [
    "c_df.head()"
   ]
  },
  {
   "cell_type": "code",
   "execution_count": 6,
   "metadata": {},
   "outputs": [],
   "source": [
    "# Resort values\n",
    "c_df.reset_index(drop=True)"
   ]
  },
  {
   "cell_type": "markdown",
   "metadata": {},
   "source": [
    "# Genres"
   ]
  },
  {
   "cell_type": "code",
   "execution_count": 7,
   "metadata": {},
   "outputs": [],
   "source": [
    "#found all nec data\n",
    "%store -r missing_artist_list"
   ]
  },
  {
   "cell_type": "code",
   "execution_count": 8,
   "metadata": {},
   "outputs": [],
   "source": [
    "#drop all rows that have no genre\n",
    "missing_artist_list = missing_artist_list[missing_artist_list.artist_genre != 'No Matches']"
   ]
  },
  {
   "cell_type": "code",
   "execution_count": 9,
   "metadata": {
    "scrolled": true
   },
   "outputs": [
    {
     "name": "stderr",
     "output_type": "stream",
     "text": [
      "/Users/chrischung/anaconda3/lib/python3.6/site-packages/ipykernel_launcher.py:2: SettingWithCopyWarning: \n",
      "A value is trying to be set on a copy of a slice from a DataFrame\n",
      "\n",
      "See the caveats in the documentation: http://pandas.pydata.org/pandas-docs/stable/indexing.html#indexing-view-versus-copy\n",
      "  \n"
     ]
    }
   ],
   "source": [
    "#drop duplicates\n",
    "missing_artist_list.drop_duplicates(subset='artist_name', keep=\"last\", inplace=True)"
   ]
  },
  {
   "cell_type": "code",
   "execution_count": 10,
   "metadata": {},
   "outputs": [
    {
     "data": {
      "text/plain": [
       "345"
      ]
     },
     "execution_count": 10,
     "metadata": {},
     "output_type": "execute_result"
    }
   ],
   "source": [
    "c_df['performer_genre'].isna().sum()"
   ]
  },
  {
   "cell_type": "code",
   "execution_count": 11,
   "metadata": {
    "scrolled": true
   },
   "outputs": [],
   "source": [
    "missing_artist_list.reset_index(drop=True, inplace=True)"
   ]
  },
  {
   "cell_type": "code",
   "execution_count": 13,
   "metadata": {},
   "outputs": [],
   "source": [
    "c_df.performer_genre = c_df.performer_genre.combine_first(missing_artist_list.artist_genre)"
   ]
  },
  {
   "cell_type": "code",
   "execution_count": 14,
   "metadata": {},
   "outputs": [
    {
     "data": {
      "text/plain": [
       "331"
      ]
     },
     "execution_count": 14,
     "metadata": {},
     "output_type": "execute_result"
    }
   ],
   "source": [
    "# 7 hours of work for 27 genres\n",
    "\n",
    "c_df['performer_genre'].isna().sum()"
   ]
  },
  {
   "cell_type": "code",
   "execution_count": 15,
   "metadata": {},
   "outputs": [],
   "source": [
    "# c_df['performer_genre'] = c_df['performer_genre'].apply(lambda x: x.lower().replace('-', ''))"
   ]
  },
  {
   "cell_type": "markdown",
   "metadata": {},
   "source": [
    "# Dates"
   ]
  },
  {
   "cell_type": "code",
   "execution_count": 16,
   "metadata": {
    "scrolled": true
   },
   "outputs": [],
   "source": [
    "# Convert string dates to datetime objects"
   ]
  },
  {
   "cell_type": "code",
   "execution_count": 17,
   "metadata": {},
   "outputs": [],
   "source": [
    "c_df['announce_date'] = pd.to_datetime(c_df['announce_date']).dt.date\n",
    "c_df['visible_until_utc'] = pd.to_datetime(c_df['visible_until_utc'])\n",
    "# c_df['visible_until_utc'] = pd.to_datetime(c_df['visible_until_utc'])\n",
    "\n",
    "#Changing Visible Until UTC to Eastern time\n",
    "eastern = pytz.timezone('US/Eastern')\n",
    "c_df['visible_until_est'] = c_df['visible_until_utc'].dt.tz_localize('UTC').dt.tz_convert(eastern)\n",
    "\n",
    "#Convert event time to weekend/weekday and afternoon/evening\n",
    "\n",
    "c_df['event_year']= [d.split('-')[0] for d in c_df['date&time_event']]\n",
    "c_df['event_month']= [d.split('-')[1] for d in c_df['date&time_event']]\n",
    "c_df['event_day']= [d.split('-')[2] for d in c_df['date&time_event']]\n",
    "\n",
    "# Create \n",
    "c_df['date&time_event'] = pd.to_datetime(c_df['date&time_event'])\n",
    "c_df['event_start'] = pd.to_datetime(c_df['date&time_event']).dt.strftime(\"%H\")\n",
    "c_df['event_date'] = pd.to_datetime(c_df['date&time_event']).dt.date\n",
    "c_df['event_month'] = pd.to_datetime(c_df['event_date']).dt.strftime(\"%m\")\n",
    "c_df['event_day'] = pd.to_datetime(c_df['date&time_event']).dt.strftime(\"%a\")\n",
    "\n",
    "#Create ticket window column\n",
    "c_df['ticket_avail_for'] = pd.to_datetime(c_df['visible_until_utc'].dt.date - c_df['announce_date']).dt.strftime(\"%d\")\n",
    "\n"
   ]
  },
  {
   "cell_type": "markdown",
   "metadata": {},
   "source": [
    "# Afternoon or Evening"
   ]
  },
  {
   "cell_type": "code",
   "execution_count": 18,
   "metadata": {
    "scrolled": true
   },
   "outputs": [
    {
     "data": {
      "text/plain": [
       "str"
      ]
     },
     "execution_count": 18,
     "metadata": {},
     "output_type": "execute_result"
    }
   ],
   "source": [
    "type(c_df['event_start'][0])"
   ]
  },
  {
   "cell_type": "code",
   "execution_count": 19,
   "metadata": {
    "scrolled": false
   },
   "outputs": [],
   "source": [
    "# Change values to float\n",
    "c_df['event_start'] = c_df['event_start'].apply(lambda x: int(x))"
   ]
  },
  {
   "cell_type": "code",
   "execution_count": 20,
   "metadata": {
    "scrolled": true
   },
   "outputs": [
    {
     "data": {
      "text/html": [
       "<div>\n",
       "<style scoped>\n",
       "    .dataframe tbody tr th:only-of-type {\n",
       "        vertical-align: middle;\n",
       "    }\n",
       "\n",
       "    .dataframe tbody tr th {\n",
       "        vertical-align: top;\n",
       "    }\n",
       "\n",
       "    .dataframe thead th {\n",
       "        text-align: right;\n",
       "    }\n",
       "</style>\n",
       "<table border=\"1\" class=\"dataframe\">\n",
       "  <thead>\n",
       "    <tr style=\"text-align: right;\">\n",
       "      <th></th>\n",
       "      <th>announce_date</th>\n",
       "      <th>average_price</th>\n",
       "      <th>date&amp;time_event</th>\n",
       "      <th>event_title:</th>\n",
       "      <th>highest_price</th>\n",
       "      <th>lowest_price</th>\n",
       "      <th>median_price</th>\n",
       "      <th>performer_genre</th>\n",
       "      <th>performer_name</th>\n",
       "      <th>ticket_listing_count</th>\n",
       "      <th>...</th>\n",
       "      <th>venue_name</th>\n",
       "      <th>venue_zipcode</th>\n",
       "      <th>visible_until_utc</th>\n",
       "      <th>visible_until_est</th>\n",
       "      <th>event_year</th>\n",
       "      <th>event_month</th>\n",
       "      <th>event_day</th>\n",
       "      <th>event_start</th>\n",
       "      <th>event_date</th>\n",
       "      <th>ticket_avail_for</th>\n",
       "    </tr>\n",
       "  </thead>\n",
       "  <tbody>\n",
       "  </tbody>\n",
       "</table>\n",
       "<p>0 rows × 23 columns</p>\n",
       "</div>"
      ],
      "text/plain": [
       "Empty DataFrame\n",
       "Columns: [announce_date, average_price, date&time_event, event_title:, highest_price, lowest_price, median_price, performer_genre, performer_name, ticket_listing_count, type_event, upcoming_events?, venue_city, venue_name, venue_zipcode, visible_until_utc, visible_until_est, event_year, event_month, event_day, event_start, event_date, ticket_avail_for]\n",
       "Index: []\n",
       "\n",
       "[0 rows x 23 columns]"
      ]
     },
     "execution_count": 20,
     "metadata": {},
     "output_type": "execute_result"
    }
   ],
   "source": [
    "#drop all times before 11\n",
    "before_11 = c_df[c_df['event_start']<12].index\n",
    "c_df.drop(before_11, inplace=True)\n",
    "c_df[c_df['event_start']<12]\n",
    "\n",
    "#drop all times above 24\n",
    "after_24 = c_df[c_df['event_start']>24].index\n",
    "c_df.drop(after_24, inplace=True)\n",
    "c_df[c_df['event_start'] >24]\n"
   ]
  },
  {
   "cell_type": "code",
   "execution_count": 21,
   "metadata": {
    "scrolled": true
   },
   "outputs": [],
   "source": [
    "c_df.reset_index(inplace=True)"
   ]
  },
  {
   "cell_type": "code",
   "execution_count": 22,
   "metadata": {
    "scrolled": true
   },
   "outputs": [
    {
     "data": {
      "text/plain": [
       "pandas.core.series.Series"
      ]
     },
     "execution_count": 22,
     "metadata": {},
     "output_type": "execute_result"
    }
   ],
   "source": [
    "type(c_df.loc[c_df['event_start'][0]])"
   ]
  },
  {
   "cell_type": "code",
   "execution_count": 23,
   "metadata": {},
   "outputs": [
    {
     "data": {
      "text/plain": [
       "16      2\n",
       "12      5\n",
       "15      7\n",
       "14     10\n",
       "23     13\n",
       "17     14\n",
       "13     43\n",
       "22     51\n",
       "18     90\n",
       "21    132\n",
       "19    479\n",
       "20    866\n",
       "Name: event_start, dtype: int64"
      ]
     },
     "execution_count": 23,
     "metadata": {},
     "output_type": "execute_result"
    }
   ],
   "source": [
    "c_df['event_start'].value_counts().sort_values()"
   ]
  },
  {
   "cell_type": "code",
   "execution_count": 24,
   "metadata": {
    "scrolled": true
   },
   "outputs": [],
   "source": [
    "def f(row):\n",
    "    if (12 <= row['event_start'] <= 17):\n",
    "        val = 'afternoon'\n",
    "    elif (18 <= row['event_start'] <= 23):\n",
    "        val = 'evening'\n",
    "    return val"
   ]
  },
  {
   "cell_type": "code",
   "execution_count": 25,
   "metadata": {
    "scrolled": true
   },
   "outputs": [],
   "source": [
    "c_df['time_of_day'] = c_df.apply(f, axis=1)"
   ]
  },
  {
   "cell_type": "code",
   "execution_count": 26,
   "metadata": {
    "scrolled": true
   },
   "outputs": [
    {
     "data": {
      "text/plain": [
       "evening      1631\n",
       "afternoon      81\n",
       "Name: time_of_day, dtype: int64"
      ]
     },
     "execution_count": 26,
     "metadata": {},
     "output_type": "execute_result"
    }
   ],
   "source": [
    "c_df['time_of_day'].value_counts()"
   ]
  },
  {
   "cell_type": "markdown",
   "metadata": {},
   "source": [
    "# Weekend or Weekday"
   ]
  },
  {
   "cell_type": "code",
   "execution_count": 27,
   "metadata": {},
   "outputs": [
    {
     "data": {
      "text/plain": [
       "pandas.core.series.Series"
      ]
     },
     "execution_count": 27,
     "metadata": {},
     "output_type": "execute_result"
    }
   ],
   "source": [
    "type(c_df['event_day'])"
   ]
  },
  {
   "cell_type": "code",
   "execution_count": 28,
   "metadata": {},
   "outputs": [
    {
     "data": {
      "text/plain": [
       "Sat    416\n",
       "Fri    378\n",
       "Thu    266\n",
       "Sun    222\n",
       "Wed    196\n",
       "Tue    150\n",
       "Mon     84\n",
       "Name: event_day, dtype: int64"
      ]
     },
     "execution_count": 28,
     "metadata": {},
     "output_type": "execute_result"
    }
   ],
   "source": [
    "c_df['event_day'].value_counts()"
   ]
  },
  {
   "cell_type": "code",
   "execution_count": 29,
   "metadata": {},
   "outputs": [
    {
     "data": {
      "text/plain": [
       "0       Fri\n",
       "1       Fri\n",
       "2       Fri\n",
       "3       Fri\n",
       "4       Fri\n",
       "5       Fri\n",
       "6       Fri\n",
       "7       Fri\n",
       "8       Fri\n",
       "9       Fri\n",
       "10      Fri\n",
       "11      Fri\n",
       "12      Fri\n",
       "13      Fri\n",
       "14      Fri\n",
       "15      Fri\n",
       "16      Sat\n",
       "17      Sat\n",
       "18      Sat\n",
       "19      Sat\n",
       "20      Sat\n",
       "21      Sat\n",
       "22      Sat\n",
       "23      Sat\n",
       "24      Sat\n",
       "25      Sat\n",
       "26      Sat\n",
       "27      Sat\n",
       "28      Sat\n",
       "29      Sat\n",
       "       ... \n",
       "1682    Wed\n",
       "1683    Thu\n",
       "1684    Fri\n",
       "1685    Sat\n",
       "1686    Sat\n",
       "1687    Sun\n",
       "1688    Wed\n",
       "1689    Thu\n",
       "1690    Sat\n",
       "1691    Sun\n",
       "1692    Sat\n",
       "1693    Sun\n",
       "1694    Sun\n",
       "1695    Sat\n",
       "1696    Sat\n",
       "1697    Sun\n",
       "1698    Sun\n",
       "1699    Fri\n",
       "1700    Sun\n",
       "1701    Fri\n",
       "1702    Sun\n",
       "1703    Sun\n",
       "1704    Sat\n",
       "1705    Sun\n",
       "1706    Thu\n",
       "1707    Sat\n",
       "1708    Sun\n",
       "1709    Sun\n",
       "1710    Sat\n",
       "1711    Fri\n",
       "Name: event_day, Length: 1712, dtype: object"
      ]
     },
     "execution_count": 29,
     "metadata": {},
     "output_type": "execute_result"
    }
   ],
   "source": [
    "c_df['event_day'].apply(lambda x: str(x))"
   ]
  },
  {
   "cell_type": "code",
   "execution_count": 30,
   "metadata": {},
   "outputs": [],
   "source": [
    "def d(row):\n",
    "    if (c_df['event_day'] == 'Sat').any():\n",
    "        val = 'weekend'\n",
    "    else:\n",
    "        val = 'weekday'\n",
    "    return val"
   ]
  },
  {
   "cell_type": "code",
   "execution_count": 31,
   "metadata": {},
   "outputs": [],
   "source": [
    "c_df['wkend_wkday'] = c_df.apply(d, axis=1)"
   ]
  },
  {
   "cell_type": "code",
   "execution_count": 32,
   "metadata": {},
   "outputs": [
    {
     "data": {
      "text/plain": [
       "weekend    1712\n",
       "Name: wkend_wkday, dtype: int64"
      ]
     },
     "execution_count": 32,
     "metadata": {},
     "output_type": "execute_result"
    }
   ],
   "source": [
    "c_df['wkend_wkday'].value_counts()"
   ]
  },
  {
   "cell_type": "code",
   "execution_count": 33,
   "metadata": {},
   "outputs": [
    {
     "data": {
      "text/html": [
       "<div>\n",
       "<style scoped>\n",
       "    .dataframe tbody tr th:only-of-type {\n",
       "        vertical-align: middle;\n",
       "    }\n",
       "\n",
       "    .dataframe tbody tr th {\n",
       "        vertical-align: top;\n",
       "    }\n",
       "\n",
       "    .dataframe thead th {\n",
       "        text-align: right;\n",
       "    }\n",
       "</style>\n",
       "<table border=\"1\" class=\"dataframe\">\n",
       "  <thead>\n",
       "    <tr style=\"text-align: right;\">\n",
       "      <th></th>\n",
       "      <th>index</th>\n",
       "      <th>announce_date</th>\n",
       "      <th>average_price</th>\n",
       "      <th>date&amp;time_event</th>\n",
       "      <th>event_title:</th>\n",
       "      <th>highest_price</th>\n",
       "      <th>lowest_price</th>\n",
       "      <th>median_price</th>\n",
       "      <th>performer_genre</th>\n",
       "      <th>performer_name</th>\n",
       "      <th>...</th>\n",
       "      <th>visible_until_utc</th>\n",
       "      <th>visible_until_est</th>\n",
       "      <th>event_year</th>\n",
       "      <th>event_month</th>\n",
       "      <th>event_day</th>\n",
       "      <th>event_start</th>\n",
       "      <th>event_date</th>\n",
       "      <th>ticket_avail_for</th>\n",
       "      <th>time_of_day</th>\n",
       "      <th>wkend_wkday</th>\n",
       "    </tr>\n",
       "  </thead>\n",
       "  <tbody>\n",
       "    <tr>\n",
       "      <th>0</th>\n",
       "      <td>0</td>\n",
       "      <td>2018-10-13</td>\n",
       "      <td>58.0</td>\n",
       "      <td>2019-02-01 18:30:00</td>\n",
       "      <td>Young Nudy with SahBabii</td>\n",
       "      <td>63.0</td>\n",
       "      <td>54.0</td>\n",
       "      <td>54.0</td>\n",
       "      <td>Hip-Hop</td>\n",
       "      <td>SahBabii</td>\n",
       "      <td>...</td>\n",
       "      <td>2019-02-02 03:30:00</td>\n",
       "      <td>2019-02-01 22:30:00-05:00</td>\n",
       "      <td>2019</td>\n",
       "      <td>02</td>\n",
       "      <td>Fri</td>\n",
       "      <td>18</td>\n",
       "      <td>2019-02-01</td>\n",
       "      <td>23</td>\n",
       "      <td>evening</td>\n",
       "      <td>weekend</td>\n",
       "    </tr>\n",
       "    <tr>\n",
       "      <th>1</th>\n",
       "      <td>2</td>\n",
       "      <td>2018-10-16</td>\n",
       "      <td>114.0</td>\n",
       "      <td>2019-02-01 19:00:00</td>\n",
       "      <td>Umphrey's McGee with Robert Walter's 20th Cong...</td>\n",
       "      <td>117.0</td>\n",
       "      <td>111.0</td>\n",
       "      <td>111.0</td>\n",
       "      <td>Pop</td>\n",
       "      <td>Umphrey's McGee</td>\n",
       "      <td>...</td>\n",
       "      <td>2019-02-02 04:00:00</td>\n",
       "      <td>2019-02-01 23:00:00-05:00</td>\n",
       "      <td>2019</td>\n",
       "      <td>02</td>\n",
       "      <td>Fri</td>\n",
       "      <td>19</td>\n",
       "      <td>2019-02-01</td>\n",
       "      <td>20</td>\n",
       "      <td>evening</td>\n",
       "      <td>weekend</td>\n",
       "    </tr>\n",
       "    <tr>\n",
       "      <th>2</th>\n",
       "      <td>3</td>\n",
       "      <td>2018-11-27</td>\n",
       "      <td>337.0</td>\n",
       "      <td>2019-02-01 19:00:00</td>\n",
       "      <td>ZyanosE with Hank Wood &amp; The Hammerheads</td>\n",
       "      <td>584.0</td>\n",
       "      <td>253.0</td>\n",
       "      <td>256.0</td>\n",
       "      <td>rock</td>\n",
       "      <td>Hank Wood &amp; The Hammerheads</td>\n",
       "      <td>...</td>\n",
       "      <td>2019-02-02 04:00:00</td>\n",
       "      <td>2019-02-01 23:00:00-05:00</td>\n",
       "      <td>2019</td>\n",
       "      <td>02</td>\n",
       "      <td>Fri</td>\n",
       "      <td>19</td>\n",
       "      <td>2019-02-01</td>\n",
       "      <td>09</td>\n",
       "      <td>evening</td>\n",
       "      <td>weekend</td>\n",
       "    </tr>\n",
       "    <tr>\n",
       "      <th>3</th>\n",
       "      <td>8</td>\n",
       "      <td>2018-12-18</td>\n",
       "      <td>41.0</td>\n",
       "      <td>2019-02-01 19:00:00</td>\n",
       "      <td>Sighns with Cyberattack</td>\n",
       "      <td>46.0</td>\n",
       "      <td>36.0</td>\n",
       "      <td>36.0</td>\n",
       "      <td>blues</td>\n",
       "      <td>Sighns</td>\n",
       "      <td>...</td>\n",
       "      <td>2019-02-02 04:00:00</td>\n",
       "      <td>2019-02-01 23:00:00-05:00</td>\n",
       "      <td>2019</td>\n",
       "      <td>02</td>\n",
       "      <td>Fri</td>\n",
       "      <td>19</td>\n",
       "      <td>2019-02-01</td>\n",
       "      <td>16</td>\n",
       "      <td>evening</td>\n",
       "      <td>weekend</td>\n",
       "    </tr>\n",
       "    <tr>\n",
       "      <th>4</th>\n",
       "      <td>9</td>\n",
       "      <td>2018-12-20</td>\n",
       "      <td>337.0</td>\n",
       "      <td>2019-02-01 19:30:00</td>\n",
       "      <td>Ritual Talk with The Humble Cheaters</td>\n",
       "      <td>584.0</td>\n",
       "      <td>253.0</td>\n",
       "      <td>256.0</td>\n",
       "      <td>electronic</td>\n",
       "      <td>Ritual Talk</td>\n",
       "      <td>...</td>\n",
       "      <td>2019-02-02 04:30:00</td>\n",
       "      <td>2019-02-01 23:30:00-05:00</td>\n",
       "      <td>2019</td>\n",
       "      <td>02</td>\n",
       "      <td>Fri</td>\n",
       "      <td>19</td>\n",
       "      <td>2019-02-01</td>\n",
       "      <td>14</td>\n",
       "      <td>evening</td>\n",
       "      <td>weekend</td>\n",
       "    </tr>\n",
       "  </tbody>\n",
       "</table>\n",
       "<p>5 rows × 26 columns</p>\n",
       "</div>"
      ],
      "text/plain": [
       "   index announce_date  average_price     date&time_event  \\\n",
       "0      0    2018-10-13           58.0 2019-02-01 18:30:00   \n",
       "1      2    2018-10-16          114.0 2019-02-01 19:00:00   \n",
       "2      3    2018-11-27          337.0 2019-02-01 19:00:00   \n",
       "3      8    2018-12-18           41.0 2019-02-01 19:00:00   \n",
       "4      9    2018-12-20          337.0 2019-02-01 19:30:00   \n",
       "\n",
       "                                        event_title:  highest_price  \\\n",
       "0                           Young Nudy with SahBabii           63.0   \n",
       "1  Umphrey's McGee with Robert Walter's 20th Cong...          117.0   \n",
       "2           ZyanosE with Hank Wood & The Hammerheads          584.0   \n",
       "3                            Sighns with Cyberattack           46.0   \n",
       "4               Ritual Talk with The Humble Cheaters          584.0   \n",
       "\n",
       "   lowest_price  median_price performer_genre               performer_name  \\\n",
       "0          54.0          54.0         Hip-Hop                     SahBabii   \n",
       "1         111.0         111.0             Pop              Umphrey's McGee   \n",
       "2         253.0         256.0            rock  Hank Wood & The Hammerheads   \n",
       "3          36.0          36.0           blues                       Sighns   \n",
       "4         253.0         256.0      electronic                  Ritual Talk   \n",
       "\n",
       "      ...       visible_until_utc         visible_until_est  event_year  \\\n",
       "0     ...     2019-02-02 03:30:00 2019-02-01 22:30:00-05:00        2019   \n",
       "1     ...     2019-02-02 04:00:00 2019-02-01 23:00:00-05:00        2019   \n",
       "2     ...     2019-02-02 04:00:00 2019-02-01 23:00:00-05:00        2019   \n",
       "3     ...     2019-02-02 04:00:00 2019-02-01 23:00:00-05:00        2019   \n",
       "4     ...     2019-02-02 04:30:00 2019-02-01 23:30:00-05:00        2019   \n",
       "\n",
       "  event_month event_day  event_start  event_date ticket_avail_for time_of_day  \\\n",
       "0          02       Fri           18  2019-02-01               23     evening   \n",
       "1          02       Fri           19  2019-02-01               20     evening   \n",
       "2          02       Fri           19  2019-02-01               09     evening   \n",
       "3          02       Fri           19  2019-02-01               16     evening   \n",
       "4          02       Fri           19  2019-02-01               14     evening   \n",
       "\n",
       "  wkend_wkday  \n",
       "0     weekend  \n",
       "1     weekend  \n",
       "2     weekend  \n",
       "3     weekend  \n",
       "4     weekend  \n",
       "\n",
       "[5 rows x 26 columns]"
      ]
     },
     "execution_count": 33,
     "metadata": {},
     "output_type": "execute_result"
    }
   ],
   "source": [
    "c_df.head()"
   ]
  },
  {
   "cell_type": "markdown",
   "metadata": {},
   "source": [
    "# Dropping columns and Filling NaN values"
   ]
  },
  {
   "cell_type": "code",
   "execution_count": 34,
   "metadata": {},
   "outputs": [],
   "source": [
    "c_df.drop(columns=['index','announce_date', 'visible_until_utc', 'visible_until_est',\\\n",
    "                  'event_year', 'event_date', 'event_title:', 'upcoming_events?', 'date&time_event',\\\n",
    "                  'type_event', 'venue_zipcode'],inplace=True)\n",
    "\n",
    "# Drop values with ticket count under 3\n",
    "under_3 = c_df[c_df['ticket_listing_count']<3].index\n",
    "c_df.drop(under_3, inplace=True)\n",
    "\n",
    "# Fill NaN values with average prices\n",
    "c_df[c_df['median_price'].isna()]\n",
    "c_df['median_price'].fillna(c_df['average_price'].isna(),inplace=True)\n",
    "c_df['median_price'] = c_df['median_price'].apply(lambda x: float(x))"
   ]
  },
  {
   "cell_type": "code",
   "execution_count": 35,
   "metadata": {},
   "outputs": [],
   "source": [
    "c_df = c_df.reset_index(drop=True)"
   ]
  },
  {
   "cell_type": "code",
   "execution_count": 36,
   "metadata": {},
   "outputs": [],
   "source": [
    "#drop performers without genre\n",
    "c_df.dropna(inplace=True)"
   ]
  },
  {
   "cell_type": "code",
   "execution_count": 37,
   "metadata": {},
   "outputs": [
    {
     "name": "stdout",
     "output_type": "stream",
     "text": [
      "<class 'pandas.core.frame.DataFrame'>\n",
      "RangeIndex: 1281 entries, 0 to 1280\n",
      "Data columns (total 15 columns):\n",
      "average_price           1281 non-null float64\n",
      "highest_price           1281 non-null float64\n",
      "lowest_price            1281 non-null float64\n",
      "median_price            1281 non-null float64\n",
      "performer_genre         1281 non-null object\n",
      "performer_name          1281 non-null object\n",
      "ticket_listing_count    1281 non-null float64\n",
      "venue_city              1281 non-null object\n",
      "venue_name              1281 non-null object\n",
      "event_month             1281 non-null object\n",
      "event_day               1281 non-null object\n",
      "event_start             1281 non-null int64\n",
      "ticket_avail_for        1281 non-null object\n",
      "time_of_day             1281 non-null object\n",
      "wkend_wkday             1281 non-null object\n",
      "dtypes: float64(5), int64(1), object(9)\n",
      "memory usage: 150.2+ KB\n"
     ]
    }
   ],
   "source": [
    "# 1281 good to use data points\n",
    "c_df =c_df.reset_index(drop=True)\n",
    "c_df.info()"
   ]
  },
  {
   "cell_type": "markdown",
   "metadata": {
    "scrolled": true
   },
   "source": [
    "# Venues"
   ]
  },
  {
   "cell_type": "code",
   "execution_count": 38,
   "metadata": {},
   "outputs": [
    {
     "data": {
      "text/html": [
       "<div>\n",
       "<style scoped>\n",
       "    .dataframe tbody tr th:only-of-type {\n",
       "        vertical-align: middle;\n",
       "    }\n",
       "\n",
       "    .dataframe tbody tr th {\n",
       "        vertical-align: top;\n",
       "    }\n",
       "\n",
       "    .dataframe thead th {\n",
       "        text-align: right;\n",
       "    }\n",
       "</style>\n",
       "<table border=\"1\" class=\"dataframe\">\n",
       "  <thead>\n",
       "    <tr style=\"text-align: right;\">\n",
       "      <th></th>\n",
       "      <th>venue_capacity</th>\n",
       "      <th>venue_name</th>\n",
       "      <th>venue_score</th>\n",
       "    </tr>\n",
       "  </thead>\n",
       "  <tbody>\n",
       "    <tr>\n",
       "      <th>0</th>\n",
       "      <td>250</td>\n",
       "      <td>The Cutting Room</td>\n",
       "      <td>0.573900</td>\n",
       "    </tr>\n",
       "    <tr>\n",
       "      <th>1</th>\n",
       "      <td>206</td>\n",
       "      <td>Baby's All Right</td>\n",
       "      <td>0.424032</td>\n",
       "    </tr>\n",
       "    <tr>\n",
       "      <th>2</th>\n",
       "      <td>0</td>\n",
       "      <td>Knitting Factory Brooklyn</td>\n",
       "      <td>0.468147</td>\n",
       "    </tr>\n",
       "    <tr>\n",
       "      <th>3</th>\n",
       "      <td>0</td>\n",
       "      <td>Brooklyn Bowl</td>\n",
       "      <td>0.527452</td>\n",
       "    </tr>\n",
       "    <tr>\n",
       "      <th>4</th>\n",
       "      <td>0</td>\n",
       "      <td>Iridium Jazz Club</td>\n",
       "      <td>0.487660</td>\n",
       "    </tr>\n",
       "  </tbody>\n",
       "</table>\n",
       "</div>"
      ],
      "text/plain": [
       "   venue_capacity                 venue_name  venue_score\n",
       "0             250           The Cutting Room     0.573900\n",
       "1             206           Baby's All Right     0.424032\n",
       "2               0  Knitting Factory Brooklyn     0.468147\n",
       "3               0              Brooklyn Bowl     0.527452\n",
       "4               0          Iridium Jazz Club     0.487660"
      ]
     },
     "execution_count": 38,
     "metadata": {},
     "output_type": "execute_result"
    }
   ],
   "source": [
    "v_df.head()"
   ]
  },
  {
   "cell_type": "code",
   "execution_count": 39,
   "metadata": {
    "scrolled": true
   },
   "outputs": [
    {
     "name": "stdout",
     "output_type": "stream",
     "text": [
      "<class 'pandas.core.frame.DataFrame'>\n",
      "RangeIndex: 2875 entries, 0 to 2874\n",
      "Data columns (total 3 columns):\n",
      "venue_capacity    2875 non-null int64\n",
      "venue_name        2875 non-null object\n",
      "venue_score       2875 non-null float64\n",
      "dtypes: float64(1), int64(1), object(1)\n",
      "memory usage: 67.5+ KB\n"
     ]
    }
   ],
   "source": [
    "v_df.info()"
   ]
  },
  {
   "cell_type": "code",
   "execution_count": 40,
   "metadata": {
    "scrolled": false
   },
   "outputs": [],
   "source": [
    "#Drop duplicate venues\n",
    "v_df.drop_duplicates(subset=['venue_name'],inplace=True)"
   ]
  },
  {
   "cell_type": "code",
   "execution_count": 41,
   "metadata": {},
   "outputs": [],
   "source": [
    "v_df = v_df.reset_index(drop=True)"
   ]
  },
  {
   "cell_type": "code",
   "execution_count": 42,
   "metadata": {},
   "outputs": [],
   "source": [
    "# Merge c_df and v_df dataframes \n",
    "c_df = pd.merge(c_df, v_df, how='left', on='venue_name').reset_index(drop=True)"
   ]
  },
  {
   "cell_type": "code",
   "execution_count": 43,
   "metadata": {},
   "outputs": [],
   "source": [
    "# c_df.loc[c_df['performer_name'] == 'Pop Evil']['venue_capacity'] = 2500"
   ]
  },
  {
   "cell_type": "code",
   "execution_count": 55,
   "metadata": {},
   "outputs": [
    {
     "data": {
      "text/plain": [
       "array(['Knitting Factory Brooklyn', 'Sony Hall', 'Analog BKNY',\n",
       "       'Iridium Jazz Club', 'The Bowery Electric', 'Spirit of New York',\n",
       "       'The Lost Horizon', 'Brooklyn Bowl', 'Apollo Theater', \"SOB's\",\n",
       "       'New York City Center - Stage 1', 'The Haunt', 'Elsewhere',\n",
       "       'The Bug Jar', 'The Chance',\n",
       "       'Colden Center for Performing Arts at Kupferberg Center for the Arts',\n",
       "       'Funk N Waffles', 'Kings Hall', 'The Hangar Theatre',\n",
       "       'Club Helsinki', 'The 9th Ward at Babeville', 'The Bell House',\n",
       "       'Montage Music Hall', \"Lando's\", 'Avant Gardner',\n",
       "       \"Lando's Hotel & Lounge\", 'Mulcahys', 'Mohawk Place',\n",
       "       \"Sportsmen's Tavern\", 'Buffalo Riverworks',\n",
       "       \"Funk 'n Waffles - Downtown\", 'Rec Room - Buffalo',\n",
       "       'Murmrr Theatre', 'Kodak Center for Performing Arts',\n",
       "       'Market Hotel', 'Smith Opera House', 'Asbury Hall At The Church',\n",
       "       \"Sharkey's Summer Stage\",\n",
       "       'Carnegie Hall - Judy & Arthur Zankel Hall',\n",
       "       'Asbury Hall inside Babeville', 'Appel Room at Lincoln Center',\n",
       "       'LeFrak Concert Hall at Kupferberg Center for the Arts',\n",
       "       'Hart Theatre at The Egg', 'Bartlett Theatre in Coxe Hall',\n",
       "       'Blackthorn 51', 'UB Center for the Arts - Drama',\n",
       "       'Kleinhans Music Hall', 'Palace Theatre Albany', 'Colony',\n",
       "       'Riviera Theatre', 'The Rooftop at Pier 17', 'Brewery Ommegang'],\n",
       "      dtype=object)"
      ]
     },
     "execution_count": 55,
     "metadata": {},
     "output_type": "execute_result"
    }
   ],
   "source": [
    "c_df.loc[c_df['venue_capacity'] == 0]['venue_name'].unique()"
   ]
  },
  {
   "cell_type": "code",
   "execution_count": 168,
   "metadata": {},
   "outputs": [],
   "source": [
    "# Manually went on Google to find missing venue capacity values\n",
    "c_df.loc[c_df['venue_name'] == \"Brewery Ommegang\", 'venue_capacity'] = 5000"
   ]
  },
  {
   "cell_type": "code",
   "execution_count": 169,
   "metadata": {},
   "outputs": [
    {
     "data": {
      "text/plain": [
       "array(['Spirit of New York', \"Lando's\", \"Lando's Hotel & Lounge\",\n",
       "       \"Sharkey's Summer Stage\", 'Bartlett Theatre in Coxe Hall'],\n",
       "      dtype=object)"
      ]
     },
     "execution_count": 169,
     "metadata": {},
     "output_type": "execute_result"
    }
   ],
   "source": [
    "c_df.loc[c_df['venue_capacity'] == 0]['venue_name'].unique()"
   ]
  }
 ],
 "metadata": {
  "kernelspec": {
   "display_name": "Python 3",
   "language": "python",
   "name": "python3"
  },
  "language_info": {
   "codemirror_mode": {
    "name": "ipython",
    "version": 3
   },
   "file_extension": ".py",
   "mimetype": "text/x-python",
   "name": "python",
   "nbconvert_exporter": "python",
   "pygments_lexer": "ipython3",
   "version": "3.6.7"
  }
 },
 "nbformat": 4,
 "nbformat_minor": 2
}
